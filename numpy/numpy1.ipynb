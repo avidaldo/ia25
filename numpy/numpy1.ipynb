{
 "cells": [
  {
   "cell_type": "markdown",
   "metadata": {},
   "source": [
    "# NumPy"
   ]
  },
  {
   "cell_type": "markdown",
   "metadata": {},
   "source": [
    "## Introduction"
   ]
  },
  {
   "cell_type": "markdown",
   "metadata": {},
   "source": [
    "\n",
    "**NumPy** is a Python library that provides functions for working with arrays of 1 (vectors), 2 (matrices), and n dimensions.\n",
    "\n",
    "NumPy works similarly to Python lists, but with the difference that its arrays are homogeneous (all elements are of the same type) and have a fixed size (cannot be modified once created).\n",
    "\n",
    "NumPy arrays are more efficient than Python lists, as they are implemented in C++ and execute faster. They use much less memory and allow specifying the data type contained in the array.\n",
    "\n",
    "It is one of the most widely used libraries in the field of data science and machine learning. Many other libraries use it as a foundation (it is therefore a **dependency** for them): **pandas, Matplotlib, Seaborn, scikit-learn, TensorFlow, PyTorch, Keras**...\n",
    "\n",
    "### Sources:\n",
    "\n",
    "- [Official NumPy documentation](https://numpy.org/doc/stable/index.html)\n",
    "- [Tutorial for learning NumPy from scratch](https://numpy.org/doc/stable/user/absolute_beginners.html) (most images reference this guide)"
   ]
  },
  {
   "cell_type": "markdown",
   "metadata": {},
   "source": [
    "## Installation and importing NumPy"
   ]
  },
  {
   "cell_type": "markdown",
   "metadata": {},
   "source": [
    "## Installation\n",
    "\n",
    "To be able to import the NumPy module, it is first necessary to have it installed in our ***environment***.\n",
    "\n",
    "Depending on which package manager we are using, it can be installed with pip:\n",
    "\n",
    "```bash\n",
    "pip install numpy\n",
    "```\n",
    "\n",
    "with Conda (Anaconda or Miniconda):\n",
    "\n",
    "```bash\n",
    "conda install numpy\n",
    "```\n",
    "\n",
    "or with uv:\n",
    "\n",
    "```bash\n",
    "uv add numpy\n",
    "```\n",
    "\n",
    "## Importing\n",
    "\n",
    "The alias \"**np**\" is practically a *de facto* standard. It is not necessary but we will find it in most examples and documentation."
   ]
  },
  {
   "cell_type": "code",
   "execution_count": 1,
   "metadata": {},
   "outputs": [],
   "source": [
    "import numpy as np"
   ]
  },
  {
   "cell_type": "markdown",
   "metadata": {},
   "source": [
    "## Creating arrays from lists"
   ]
  },
  {
   "cell_type": "code",
   "execution_count": 2,
   "metadata": {},
   "outputs": [
    {
     "name": "stdout",
     "output_type": "stream",
     "text": [
      "[1, 2, 3, 4, 5, 6]\n",
      "<class 'list'>\n",
      "[1 2 3 4 5 6]\n",
      "<class 'numpy.ndarray'>\n"
     ]
    },
    {
     "data": {
      "text/plain": [
       "array([1, 2, 3, 4, 5, 6])"
      ]
     },
     "execution_count": 2,
     "metadata": {},
     "output_type": "execute_result"
    }
   ],
   "source": [
    "# Creating a Python list\n",
    "python_list_1D=[1, 2, 3, 4, 5, 6]\n",
    "print(python_list_1D)\n",
    "print(type(python_list_1D))\n",
    "\n",
    "# Creating a vector (1D ndarray) from the list\n",
    "numpy_darray_1D = np.array(python_list_1D)\n",
    "print(numpy_darray_1D)\n",
    "print(type(numpy_darray_1D)) # The type of NumPy variables is numpy.ndarray\n",
    "\n",
    "numpy_darray_1D # Notebooks allow displaying variable content without using print"
   ]
  },
  {
   "cell_type": "markdown",
   "metadata": {},
   "source": [
    "[<img src=\"https://numpy.org/doc/stable/_images/np_create_matrix.png\" width=\"700\">](https://numpy.org/doc/stable/user/absolute_beginners.html#creating-matrices)"
   ]
  },
  {
   "cell_type": "code",
   "execution_count": 3,
   "metadata": {},
   "outputs": [
    {
     "name": "stdout",
     "output_type": "stream",
     "text": [
      "[[1, 2, 3], [4, 5, 6]]\n",
      "<class 'list'>\n",
      "[[1 2 3]\n",
      " [4 5 6]]\n",
      "<class 'numpy.ndarray'>\n"
     ]
    },
    {
     "data": {
      "text/plain": [
       "array([[1, 2, 3],\n",
       "       [4, 5, 6]])"
      ]
     },
     "execution_count": 3,
     "metadata": {},
     "output_type": "execute_result"
    }
   ],
   "source": [
    "python_list_2D=[[1, 2, 3], [4, 5, 6]] # List of lists (2D) in Python\n",
    "print(python_list_2D)\n",
    "print(type(python_list_2D))\n",
    "\n",
    "numpy_darray_2D = np.array(python_list_2D) # Creating a 2D ndarray\n",
    "print(numpy_darray_2D)\n",
    "print(type(numpy_darray_2D))\n",
    "numpy_darray_2D"
   ]
  },
  {
   "cell_type": "code",
   "execution_count": 4,
   "metadata": {},
   "outputs": [
    {
     "name": "stdout",
     "output_type": "stream",
     "text": [
      "[[1 2 3]\n",
      " [4 5 6]]\n",
      "2\n",
      "(2, 3)\n",
      "6\n",
      "int64\n"
     ]
    }
   ],
   "source": [
    "numpy_darray_2D = np.array([[1, 2, 3], [4, 5, 6]])\n",
    "print(numpy_darray_2D)\n",
    "\n",
    "### Properties of NumPy variables:\n",
    "print(numpy_darray_2D.ndim) # dimensions of the matrix\n",
    "print(numpy_darray_2D.shape) # shape of the matrix (number of elements per dimension or axis)\n",
    "print(numpy_darray_2D.size) # total number of elements\n",
    "print(numpy_darray_2D.dtype) # type of the matrix elements"
   ]
  },
  {
   "cell_type": "markdown",
   "metadata": {},
   "source": [
    "## Data types for array elements"
   ]
  },
  {
   "cell_type": "markdown",
   "metadata": {},
   "source": [
    "NumPy array objects are always of type ndarray ([*N-dimensional array*](https://numpy.org/doc/stable/reference/arrays.ndarray.html)). The type of its elements is specified by its dtype ([*data type*](https://numpy.org/doc/stable/reference/arrays.dtypes.html#arrays-dtypes)).\n",
    "ndarrays are always homogeneous, meaning all their elements are of the same type."
   ]
  },
  {
   "cell_type": "code",
   "execution_count": 5,
   "metadata": {},
   "outputs": [
    {
     "name": "stdout",
     "output_type": "stream",
     "text": [
      "[[1 2 3]\n",
      " [4 5 6]]\n",
      "int64\n",
      "[[1. 2. 3.]\n",
      " [4. 5. 6.]]\n",
      "float64\n"
     ]
    }
   ],
   "source": [
    "# If we don't specify the element type, NumPy infers it from the argument\n",
    "lista = [[1, 2, 3], [4, 5, 6]]\n",
    "a = np.array(lista)\n",
    "print(a)\n",
    "print(a.dtype)\n",
    "\n",
    "# We can create a NumPy ndarray with elements of a specific type\n",
    "b = np.array(lista, dtype=np.float64) # 64-bit float\n",
    "# Although we pass a list with ints, with the dtype parameter we can indicate that we want the elements to be floats, so it converts them. We can see this when displaying it with print by the decimal point.\n",
    "print(b)\n",
    "print(b.dtype)"
   ]
  },
  {
   "cell_type": "code",
   "execution_count": 6,
   "metadata": {},
   "outputs": [
    {
     "name": "stdout",
     "output_type": "stream",
     "text": [
      "[['Antonio' 'Bea' 'Carlos' 'Diana']\n",
      " ['65' '78' '90' '81']\n",
      " ['71' '82' '79' '92']]\n",
      "<U21\n"
     ]
    }
   ],
   "source": [
    "# Suppose we use an array like the following to store grades from 2 exams of a class list:\n",
    "students_and_grades = np.array([['Antonio','Bea','Carlos','Diana'],\n",
    "                            [65,78,90,81],\n",
    "                            [71,82,79,92]]) # Do you see anything that could be improved in this data structure?\n",
    "\n",
    "# Elements within a NumPy array must be of the same type. If we pass a list with elements of different types, NumPy converts them all to the same type. In this case, being strings, it converts them all to strings.\n",
    "print(students_and_grades)\n",
    "print(students_and_grades.dtype) # dtype='<U11' means they are Unicode strings of up to 11 characters\n"
   ]
  },
  {
   "cell_type": "markdown",
   "metadata": {},
   "source": [
    "Apart from the previous example serving to exemplify typing in NumPy, that structure could be improved. Not only does it not fit into NumPy's philosophy (efficient execution of mathematical operations); it wouldn't change much from leaving it as a list of lists:\n",
    "    \n",
    "```python\n",
    "students_and_grades = [['Antonio', 'Bea', 'Carlos', 'Diana'],\n",
    "                     [65, 78, 90, 81],\n",
    "                     [71, 82, 79, 92]]\n",
    "```\n",
    "\n",
    "but rather than linking several lists by their index (which can be a source of errors when deleting or sorting elements synchronously across all of them), it would be recommended to first encapsulate each student with their grades (in a tuple or an object) and maintain a list of them:\n",
    "\n",
    "```python\n",
    "students_and_grades = [('Antonio', [65, 71]), ('Bea', [78, 82]), ('Carlos', [90, 79]), ('Diana', [81, 92])]\n",
    "```\n",
    "\n",
    "This would be questionable if we need to do costly processing of a large number of student grades, but in that case, it would be recommended to use a more complex data structure, such as a **Pandas DataFrame**, which would allow us to perform operations efficiently."
   ]
  },
  {
   "cell_type": "markdown",
   "metadata": {},
   "source": [
    "### NaN"
   ]
  },
  {
   "cell_type": "markdown",
   "metadata": {},
   "source": [
    "The **float** data type in NumPy allows the special value **NaN** (Not a Number), which is used to represent numeric values that are not real numbers while maintaining the float data type to be able to perform operations with them. For example, the result of dividing 0 by 0 is NaN.\n",
    "\n",
    "If we used the None type to represent numeric values that are not real numbers, the resulting data type would be object, and we couldn't perform mathematical operations with it."
   ]
  },
  {
   "cell_type": "code",
   "execution_count": 7,
   "metadata": {},
   "outputs": [
    {
     "name": "stdout",
     "output_type": "stream",
     "text": [
      "<class 'float'>\n",
      "<class 'NoneType'>\n"
     ]
    }
   ],
   "source": [
    "print(type(np.nan))\n",
    "print(type(None))"
   ]
  },
  {
   "cell_type": "code",
   "execution_count": 8,
   "metadata": {},
   "outputs": [
    {
     "data": {
      "text/plain": [
       "array([[ 1.,  2.,  3.],\n",
       "       [ 4., nan,  6.]])"
      ]
     },
     "execution_count": 8,
     "metadata": {},
     "output_type": "execute_result"
    }
   ],
   "source": [
    "np.array([[1, 2, 3], [4, np.nan, 6]])"
   ]
  },
  {
   "cell_type": "markdown",
   "metadata": {},
   "source": [
    "## Accessing elements"
   ]
  },
  {
   "cell_type": "markdown",
   "metadata": {},
   "source": [
    "[<img src=\"https://numpy.org/doc/stable/_images/np_indexing.png\" width=\"800\"/>](https://numpy.org/doc/stable/user/absolute_beginners.html#indexing-and-slicing)"
   ]
  },
  {
   "cell_type": "code",
   "execution_count": 9,
   "metadata": {},
   "outputs": [
    {
     "data": {
      "text/plain": [
       "np.int64(5)"
      ]
     },
     "execution_count": 9,
     "metadata": {},
     "output_type": "execute_result"
    }
   ],
   "source": [
    "numpy_darray_2D[1,1] # Access to an element of the ndarray (row 1, column 1)"
   ]
  },
  {
   "cell_type": "code",
   "execution_count": 10,
   "metadata": {},
   "outputs": [
    {
     "data": {
      "text/plain": [
       "array([[11, 12, 13, 14],\n",
       "       [21, 22, 23, 24],\n",
       "       [31, 32, 33, 34]])"
      ]
     },
     "execution_count": 10,
     "metadata": {},
     "output_type": "execute_result"
    }
   ],
   "source": [
    "A = np.array([[11, 12, 13, 14], [21, 22, 23, 24], [31, 32, 33, 34]])\n",
    "A"
   ]
  },
  {
   "cell_type": "markdown",
   "metadata": {},
   "source": [
    "The previous cell defines with NumPy a 3x4 matrix (3 rows and 4 columns) like the following:\n",
    "\n",
    "$$\n",
    "\\begin{pmatrix}\n",
    "    11 & 12 & 13 & 14\\\\\n",
    "    21 & 22 & 23 & 24\\\\\n",
    "    31 & 32 & 33 & 34\n",
    "\\end{pmatrix}\n",
    "$$\n",
    "\n",
    "To access its values in Python, the syntax ``` A[row, column]``` is used, remembering that indices start at 0, so the first element of the matrix is accessed with ```A[0,0]``` and the last with ```A[2,3]```.\n",
    "\n",
    "$$\n",
    "\\begin{array}{c c}\n",
    "    & \\color{red} \\begin{matrix}\n",
    "    col\\ 0\\  &\\ \\ col\\ 1\\  &\\  \\ col\\ 2\\  &\\  \\ col\\ 3 \\end{matrix}\n",
    "    \\\\\n",
    "    \\color{red}\n",
    "    \\begin{matrix} row\\ 0 \\\\ row\\ 1 \\\\ row\\ 2 \\end{matrix}\n",
    "    &\n",
    "    \\begin{pmatrix}\n",
    "        A[0,0] & A[0,1] & A[0,2] & A[0,3]\\\\\n",
    "        A[1,0] & A[1,1] & A[1,2] & A[1,3]\\\\\n",
    "        A[2,0] & A[2,1] & A[2,2] & A[2,3]\n",
    "    \\end{pmatrix}\n",
    "\\end{array}\n",
    "$$"
   ]
  },
  {
   "cell_type": "code",
   "execution_count": 11,
   "metadata": {},
   "outputs": [
    {
     "name": "stdout",
     "output_type": "stream",
     "text": [
      "11\n",
      "23\n",
      "[21 22 23 24]\n"
     ]
    }
   ],
   "source": [
    "print(A[0,0]) # Element of the first row (row 0) and first column (column 0)\n",
    "print(A[1,2]) # Element of the second row (row 1) and third column (column 2)\n",
    "print(A[1]) # Second row of A (index 1)"
   ]
  },
  {
   "cell_type": "markdown",
   "metadata": {},
   "source": [
    "## Basic functions to create arrays"
   ]
  },
  {
   "cell_type": "code",
   "execution_count": 12,
   "metadata": {},
   "outputs": [
    {
     "name": "stdout",
     "output_type": "stream",
     "text": [
      "[0. 0. 0. 0.]\n",
      "[1. 1.]\n"
     ]
    }
   ],
   "source": [
    "print(np.zeros(4)) # Creates a NumPy vector with four elements set to 0\n",
    "print(np.ones(2)) # Creates a NumPy ndarray with two elements set to 1"
   ]
  },
  {
   "cell_type": "code",
   "execution_count": 13,
   "metadata": {},
   "outputs": [
    {
     "data": {
      "text/plain": [
       "array([[0., 0., 0.],\n",
       "       [0., 0., 0.]])"
      ]
     },
     "execution_count": 13,
     "metadata": {},
     "output_type": "execute_result"
    }
   ],
   "source": [
    "# The shape parameter allows us to specify the shape of the matrix, receives a tuple with its dimensions\n",
    "np.zeros(shape=(2,3)) # Creates a 2x3 matrix of zeros. Dimensions (tuple 2,3) with zeros"
   ]
  },
  {
   "cell_type": "code",
   "execution_count": 14,
   "metadata": {},
   "outputs": [
    {
     "data": {
      "text/plain": [
       "array([[[1, 1],\n",
       "        [1, 1]],\n",
       "\n",
       "       [[1, 1],\n",
       "        [1, 1]]])"
      ]
     },
     "execution_count": 14,
     "metadata": {},
     "output_type": "execute_result"
    }
   ],
   "source": [
    "np.ones((2,2,2), dtype=int) # Creates a 2x2x2 three-dimensional array with ones of type int"
   ]
  },
  {
   "cell_type": "code",
   "execution_count": 15,
   "metadata": {},
   "outputs": [
    {
     "name": "stdout",
     "output_type": "stream",
     "text": [
      "[0. 0. 0. 0.]\n",
      "[0 0 0 0]\n",
      "[254 255   0   1   2]\n"
     ]
    }
   ],
   "source": [
    "# np.zeros, np.ones default to float64 type, but we can specify the type with the dtype parameter\n",
    "print(np.zeros(4))\n",
    "print(np.zeros(4, dtype=np.int64))\n",
    "\n",
    "print(np.arange(254, 259, dtype=np.uint8)) # In this case, the type is uint8 (unsigned 8-bit int), so the maximum value it can take is 255 and it overflows"
   ]
  },
  {
   "cell_type": "code",
   "execution_count": 16,
   "metadata": {},
   "outputs": [
    {
     "data": {
      "text/plain": [
       "array([1., 1.])"
      ]
     },
     "execution_count": 16,
     "metadata": {},
     "output_type": "execute_result"
    }
   ],
   "source": [
    "# np.empty does not initialize its elements, so they take the value that was in the memory position\n",
    "np.empty(2)"
   ]
  },
  {
   "cell_type": "code",
   "execution_count": 17,
   "metadata": {},
   "outputs": [
    {
     "name": "stdout",
     "output_type": "stream",
     "text": [
      "[[ True  True  True]\n",
      " [ True  True  True]\n",
      " [ True  True  True]]\n",
      "[[5 5]\n",
      " [5 5]\n",
      " [5 5]]\n",
      "[[5. 5.]\n",
      " [5. 5.]\n",
      " [5. 5.]]\n",
      "[[5. 5.]\n",
      " [5. 5.]\n",
      " [5. 5.]]\n"
     ]
    }
   ],
   "source": [
    "print(np.full((3,3), True)) # Creates a 3x3 matrix with all elements set to True\n",
    "print(np.full(shape=(3,2), fill_value=5)) # Creates a 3x2 matrix with all elements set to 5 (int)\n",
    "\n",
    "# np.full will take the type of the argument we pass to it (like np.array with the elements contained in the sequence passed to it), so if we pass a float, the elements will be floats\n",
    "\n",
    "print(np.full((3,2), 5.0)) # Creates a 3x2 matrix with all elements set to 5.0\n",
    "print(np.full((3,2), 5, dtype=np.float64)) # Creates a 3x2 matrix with all elements set to 5.0"
   ]
  },
  {
   "cell_type": "markdown",
   "metadata": {},
   "source": [
    "## Random number generation"
   ]
  },
  {
   "cell_type": "code",
   "execution_count": 18,
   "metadata": {},
   "outputs": [
    {
     "name": "stdout",
     "output_type": "stream",
     "text": [
      "[[0.87298025 0.75971036 0.9505646  0.25030904]\n",
      " [0.83941352 0.81611634 0.25656097 0.47025815]\n",
      " [0.37161966 0.82545842 0.19139435 0.25963486]]\n",
      "[[2 1 4 3]\n",
      " [4 1 0 1]]\n"
     ]
    }
   ],
   "source": [
    "rng = np.random.default_rng() # Create a NumPy random number generator\n",
    "print(rng.random((3, 4))) # Creates a 3x4 matrix with random numbers between 0 and 1\n",
    "print(rng.integers(5, size=(2, 4))) # Creates a 2x4 matrix with random integers between 0 and 4"
   ]
  },
  {
   "cell_type": "markdown",
   "metadata": {},
   "source": [
    "## Functions to create vectors following sequences"
   ]
  },
  {
   "cell_type": "code",
   "execution_count": 19,
   "metadata": {},
   "outputs": [
    {
     "name": "stdout",
     "output_type": "stream",
     "text": [
      "[2 4 6 8]\n",
      "[0 1 2 3 4 5 6 7 8 9]\n",
      "[ 0.   2.5  5.   7.5 10. ]\n"
     ]
    }
   ],
   "source": [
    "print(np.arange(2, 10, 2)) # Same as Python's range function, but returns a NumPy ndarray\n",
    "print(np.arange(10))\n",
    "print(np.linspace(0, 10, num=5)) # Returns a NumPy ndarray with 5 evenly spaced elements between 0 and 10"
   ]
  },
  {
   "cell_type": "markdown",
   "metadata": {},
   "source": [
    "## Reshape"
   ]
  },
  {
   "cell_type": "code",
   "execution_count": 20,
   "metadata": {},
   "outputs": [
    {
     "name": "stdout",
     "output_type": "stream",
     "text": [
      "[[ 0  1  2  3]\n",
      " [ 4  5  6  7]\n",
      " [ 8  9 10 11]]\n"
     ]
    }
   ],
   "source": [
    "# A vector can be converted into a matrix with the reshape function\n",
    "base_vector=np.arange(12)\n",
    "print(base_vector.reshape(3, 4)) # Creates a 12-element vector and converts it into a 3x4 matrix\n",
    "# In a matrix shape, the first element is the number of rows (axis 0) and the second is the number of columns (axis 1)"
   ]
  },
  {
   "cell_type": "code",
   "execution_count": 21,
   "metadata": {},
   "outputs": [
    {
     "name": "stdout",
     "output_type": "stream",
     "text": [
      "[[ 0  1  2  3]\n",
      " [ 4  5  6  7]\n",
      " [ 8  9 10 11]]\n"
     ]
    }
   ],
   "source": [
    "# The special value -1 in the shape parameter indicates that NumPy should infer the value of that dimension\n",
    "print(base_vector.reshape(3, -1)) # Creates a 12-element vector and converts it into a 3x4 matrix"
   ]
  },
  {
   "cell_type": "code",
   "execution_count": 22,
   "metadata": {},
   "outputs": [
    {
     "data": {
      "text/plain": [
       "array([[1],\n",
       "       [2],\n",
       "       [3]])"
      ]
     },
     "execution_count": 22,
     "metadata": {},
     "output_type": "execute_result"
    }
   ],
   "source": [
    "np.array([1, 2, 3]).reshape(-1,1) # Converts a vector into a single-column matrix"
   ]
  },
  {
   "cell_type": "markdown",
   "metadata": {},
   "source": [
    "## Slicing"
   ]
  },
  {
   "cell_type": "markdown",
   "metadata": {},
   "source": [
    "Slicing is a way to retrieve a part of the matrix. It works analogously to Python lists.\n",
    "\n",
    "```\n",
    "a[start:stop]  # elements from start to stop-1 (stop is the first element not included)\n",
    "a[start:]      # elements from start to the end of the array\n",
    "a[:stop]       # elements from the beginning of the array to stop-1\n",
    "a[:]           # a copy of the complete array\n",
    "```\n",
    "\n",
    "There is also a third value, the \"step\" increment:\n",
    "```\n",
    "a[start:stop:step] # from start to a value less than stop, with increment \"step\"\n",
    "```\n",
    "\n",
    "Start and stop can be negative numbers. That means counting from the end of the array:\n",
    "```\n",
    "a[-1]    # Last element of the array\n",
    "a[-2:]   # Last two elements of the array\n",
    "a[:-2]   # All elements of the array except the last two\n",
    "```\n",
    "\n",
    "Step can also be negative:\n",
    "```\n",
    "a[::-1]    # all elements of the array but reversed, starting with the last (equivalent to np.flip(a))\n",
    "a[1::-1]   # the two elements, reversed\n",
    "a[:-3:-1]  # the last two elements, reversed\n",
    "a[-3::-1]  # everything except the last two elements, reversed\n",
    "```\n",
    "\n",
    "[<img src=\"https://numpy.org/doc/stable/_images/np_matrix_indexing.png\" width=\"800\"/>](https://numpy.org/doc/stable/user/absolute_beginners.html#indexing-and-slicing)"
   ]
  },
  {
   "cell_type": "code",
   "execution_count": 23,
   "metadata": {},
   "outputs": [
    {
     "name": "stdout",
     "output_type": "stream",
     "text": [
      "[[11 12 13 14]\n",
      " [21 22 23 24]\n",
      " [31 32 33 34]]\n",
      "---\n",
      "Row 1: [21 22 23 24]\n",
      "Row 1: [21 22 23 24]\n"
     ]
    }
   ],
   "source": [
    "print(f\"{A}\\n---\")\n",
    "\n",
    "print(f\"Row 1: {A[1,:]}\") # The row with index 1 and all columns. That is: the 2nd row\n",
    "print(f\"Row 1: {A[1]}\") # same as the previous one, simplified"
   ]
  },
  {
   "cell_type": "code",
   "execution_count": 24,
   "metadata": {},
   "outputs": [
    {
     "data": {
      "text/plain": [
       "array([12, 22, 32])"
      ]
     },
     "execution_count": 24,
     "metadata": {},
     "output_type": "execute_result"
    }
   ],
   "source": [
    "A[:,1] # The elements of all rows (:) and column 1. That is: those of the 2nd column\n",
    "# A vector with those values is returned (not a matrix with a single column)"
   ]
  },
  {
   "cell_type": "code",
   "execution_count": 25,
   "metadata": {},
   "outputs": [
    {
     "data": {
      "text/plain": [
       "array([[12],\n",
       "       [22],\n",
       "       [32]])"
      ]
     },
     "execution_count": 25,
     "metadata": {},
     "output_type": "execute_result"
    }
   ],
   "source": [
    "# Same as the previous one, but returns a single-column matrix\n",
    "A[:,1:2]\n",
    "# print(f\"Column 1: {A[:,1].reshape(-1,1)}\") # Equivalent"
   ]
  },
  {
   "cell_type": "code",
   "execution_count": 26,
   "metadata": {},
   "outputs": [
    {
     "name": "stdout",
     "output_type": "stream",
     "text": [
      "[[11 12 13 14]\n",
      " [21 22 23 24]\n",
      " [31 32 33 34]]\n",
      "---\n",
      "Row 1, columns 0 and 1: [21 22]\n"
     ]
    }
   ],
   "source": [
    "print(f\"{A}\\n---\")\n",
    "\n",
    "print(f\"Row 1, columns 0 and 1: {A[1,:2]}\") # Row 1 and columns 0 and 1 (all up to 2)"
   ]
  },
  {
   "cell_type": "code",
   "execution_count": 27,
   "metadata": {},
   "outputs": [
    {
     "name": "stdout",
     "output_type": "stream",
     "text": [
      "[[11 12 13 14]\n",
      " [21 22 23 24]\n",
      " [31 32 33 34]]\n",
      "---\n",
      "[[22 23]\n",
      " [32 33]]\n",
      "[[22 23 24]\n",
      " [32 33 34]]\n"
     ]
    }
   ],
   "source": [
    "print(f\"{A}\\n---\")\n",
    "\n",
    "print(A[1:3,1:3])  # Submatrix of A with rows 1 and 2 and columns 1 and 2\n",
    "print(A[1:,1:])  # Submatrix of A with rows 1 and 2 and columns 1, 2 and 3"
   ]
  },
  {
   "cell_type": "markdown",
   "metadata": {},
   "source": [
    "## Filtering"
   ]
  },
  {
   "cell_type": "code",
   "execution_count": 28,
   "metadata": {},
   "outputs": [
    {
     "name": "stdout",
     "output_type": "stream",
     "text": [
      "[1 2 3 4]\n",
      "[1 3]\n"
     ]
    }
   ],
   "source": [
    "arr = np.array([1, 2, 3, 4])\n",
    "print(arr)\n",
    "x = [True, False, True, False] \n",
    "filtered_array = arr[x] # Filter the elements of arr that are in the True positions of x\n",
    "print(filtered_array)"
   ]
  },
  {
   "cell_type": "code",
   "execution_count": 29,
   "metadata": {},
   "outputs": [
    {
     "name": "stdout",
     "output_type": "stream",
     "text": [
      "[  0   1   4   9  16  25  36  49  64  81 100]\n",
      "[0 1 4 9]\n",
      "[16]\n",
      "[  0   1   4   9  25  36  49  64  81 100]\n",
      "[  0   1   4   9  16  25  36  49  64  81 100]\n",
      "[25 36 49]\n"
     ]
    }
   ],
   "source": [
    "\n",
    "a = np.arange(11)**2\n",
    "print(a)\n",
    "print(a[a<10]) # Keep values less than 10\n",
    "print(a[a==16]) # Keep values equal to 16\n",
    "print(a[a!=16]) # Keep values different from 16\n",
    "print(a[(a>20) | (a<50)]) # Keep values greater than 20 or less than 50\n",
    "print(a[(a>20) & (a<50)]) # Keep values greater than 20 and less than 50\n"
   ]
  },
  {
   "cell_type": "code",
   "execution_count": 30,
   "metadata": {},
   "outputs": [
    {
     "name": "stdout",
     "output_type": "stream",
     "text": [
      "[  0   0   0   0  16  25  36  49  64  81 100]\n",
      "[[ 0  1  2  3]\n",
      " [ 4  5  6  7]\n",
      " [ 8  9 10 11]]\n",
      "[[ 0  0  2  0]\n",
      " [ 4  0  6  0]\n",
      " [ 8  0 10  0]]\n"
     ]
    }
   ],
   "source": [
    "# Starting from filters we can make modifications on certain elements of an ndarray\n",
    "a[a<10] = 0 # Set values less than 10 to 0\n",
    "print(a)\n",
    "\n",
    "b = np.arange(12).reshape(3,4)\n",
    "print(b)\n",
    "# Set odd values of b to 0\n",
    "b[b%2==1] = 0\n",
    "print(b)"
   ]
  },
  {
   "cell_type": "markdown",
   "metadata": {},
   "source": [
    "## Mathematical operations"
   ]
  },
  {
   "cell_type": "markdown",
   "metadata": {},
   "source": [
    "[<img src=\"https://numpy.org/doc/stable/_images/np_aggregation.png\" width=\"800\"/>](https://numpy.org/doc/stable/user/absolute_beginners.html#more-useful-array-operations)"
   ]
  },
  {
   "cell_type": "code",
   "execution_count": 31,
   "metadata": {},
   "outputs": [
    {
     "name": "stdout",
     "output_type": "stream",
     "text": [
      "vector: [ 9 10  1  2  2  3  3  3  4  5  6  7  8]\n",
      "Maximum: 10\n",
      "Index of maximum: 1\n",
      "Minimum: 1\n",
      "Index of minimum: 2\n",
      "Sum: 63\n",
      "Mean: 4.846153846153846\n",
      "Cumulative sum: [ 9 19 20 22 24 27 30 33 37 42 48 55 63]\n"
     ]
    }
   ],
   "source": [
    "vector = np.array([9,10,1,2,2,3,3,3,4,5,6,7,8])\n",
    "\n",
    "print(f\"vector: {vector}\")\n",
    "print(f\"Maximum: {vector.max()}\")\n",
    "print(f\"Index of maximum: {vector.argmax()}\")\n",
    "print(f\"Minimum: {vector.min()}\")\n",
    "print(f\"Index of minimum: {vector.argmin()}\")\n",
    "print(f\"Sum: {vector.sum()}\")\n",
    "print(f\"Mean: {vector.mean()}\")\n",
    "print(f\"Cumulative sum: {vector.cumsum()}\")"
   ]
  },
  {
   "cell_type": "code",
   "execution_count": 32,
   "metadata": {},
   "outputs": [
    {
     "name": "stdout",
     "output_type": "stream",
     "text": [
      "Standard deviation: 2.797\n",
      "Variance: 7.822\n"
     ]
    }
   ],
   "source": [
    "print(f\"Standard deviation: {vector.std():.3f}\")\n",
    "print(f\"Variance: {vector.var():.3f}\")"
   ]
  },
  {
   "cell_type": "markdown",
   "metadata": {},
   "source": [
    "In matrices, axes are defined on which mathematical operations can be performed. By default, operations are performed on all elements of the matrix, but you can specify the axis on which you want to operate.\n",
    "\n",
    "\n",
    "[<img src=\"https://numpy.org/doc/stable/_images/np_matrix_aggregation.png\" width=\"800\"/>](https://numpy.org/doc/stable/user/absolute_beginners.html#more-useful-array-operations)\n",
    "\n",
    "[<img src=\"https://numpy.org/doc/stable/_images/np_matrix_aggregation_row.png\" width=\"800\"/>](https://numpy.org/doc/stable/user/absolute_beginners.html#more-useful-array-operations)\n",
    "\n",
    "<img src=\"img/np-axis.png\" width=\"500\"/>"
   ]
  },
  {
   "cell_type": "code",
   "execution_count": 33,
   "metadata": {},
   "outputs": [
    {
     "name": "stdout",
     "output_type": "stream",
     "text": [
      "78\n",
      "[15 18 21 24]\n",
      "[10 26 42]\n"
     ]
    }
   ],
   "source": [
    "matrix = np.array([[1, 2, 3, 4], [5, 6, 7, 8], [9,10,11,12]])\n",
    "print(matrix.sum()) # Sum of all elements\n",
    "print(matrix.sum(axis=0)) # Sum by columns\n",
    "print(matrix.sum(axis=1)) # Sum by rows"
   ]
  },
  {
   "cell_type": "markdown",
   "metadata": {},
   "source": [
    "## Operations on matrices"
   ]
  },
  {
   "cell_type": "markdown",
   "metadata": {},
   "source": [
    "### Sorting"
   ]
  },
  {
   "cell_type": "code",
   "execution_count": 34,
   "metadata": {},
   "outputs": [
    {
     "name": "stdout",
     "output_type": "stream",
     "text": [
      "vector before sort:   [ 9 10  1  2  2  3  3  3  4  5  6  7  8]\n",
      "--- Sorting procedurally ---\n",
      "vector after sort: [ 9 10  1  2  2  3  3  3  4  5  6  7  8]\n",
      "sorted:               [ 1  2  2  3  3  3  4  5  6  7  8  9 10]\n",
      "--- Sorting object-oriented ---\n",
      "vector before sort:   [ 9 10  1  2  2  3  3  3  4  5  6  7  8]\n",
      "sorted vector:        [ 1  2  2  3  3  3  4  5  6  7  8  9 10]\n"
     ]
    }
   ],
   "source": [
    "print(f\"vector before sort:   {vector}\")\n",
    "print(\"--- Sorting procedurally ---\")\n",
    "# The sort() function receives the vector as an argument and returns it sorted, but does not modify the original vector\n",
    "sorted_vec = np.sort(vector)\n",
    "print(f\"vector after sort: {vector}\")\n",
    "print(f\"sorted:               {sorted_vec}\")\n",
    "\n",
    "print(\"--- Sorting object-oriented ---\")\n",
    "# The sort() method of the ndarray object modifies the object from which it is called, returns nothing\n",
    "vector_copy = vector.copy() # copy of the original vector\n",
    "print(f\"vector before sort:   {vector_copy}\")\n",
    "vector_copy.sort()\n",
    "print(f\"sorted vector:        {vector_copy}\")"
   ]
  },
  {
   "cell_type": "markdown",
   "metadata": {},
   "source": [
    "### Unique"
   ]
  },
  {
   "cell_type": "code",
   "execution_count": 35,
   "metadata": {},
   "outputs": [
    {
     "name": "stdout",
     "output_type": "stream",
     "text": [
      "vector:     [ 9 10  1  2  2  3  3  3  4  5  6  7  8]\n",
      "unique:     [ 1  2  3  4  5  6  7  8  9 10]\n",
      "indices:    [ 2  3  5  8  9 10 11 12  0  1]\n"
     ]
    }
   ],
   "source": [
    "# numpy.unique() returns the unique values of a vector\n",
    "unique_vals, positions = np.unique(vector, return_index=True) # return_index=True returns the indices of unique values\n",
    "print(f\"vector:     {vector}\")\n",
    "print(f\"unique:     {unique_vals}\")\n",
    "print(f\"indices:    {positions}\")"
   ]
  },
  {
   "cell_type": "code",
   "execution_count": 36,
   "metadata": {},
   "outputs": [
    {
     "name": "stdout",
     "output_type": "stream",
     "text": [
      "vector:      [ 9 10  1  2  2  3  3  3  4  5  6  7  8]\n",
      "unique:       [ 1  2  3  4  5  6  7  8  9 10]\n",
      "frequencies: [1 2 3 1 1 1 1 1 1 1]\n",
      "{np.int64(1): np.int64(1), np.int64(2): np.int64(2), np.int64(3): np.int64(3), np.int64(4): np.int64(1), np.int64(5): np.int64(1), np.int64(6): np.int64(1), np.int64(7): np.int64(1), np.int64(8): np.int64(1), np.int64(9): np.int64(1), np.int64(10): np.int64(1)}\n"
     ]
    }
   ],
   "source": [
    "unique_vals, frequencies = np.unique(vector, return_counts=True) # return_counts=True returns the frequencies of unique values\n",
    "print(f\"vector:      {vector}\")\n",
    "print(f\"unique:       {unique_vals}\")\n",
    "print(f\"frequencies: {frequencies}\")\n",
    "# If for example we want a dictionary with each value and its frequency, we can use zip:\n",
    "print(dict(zip(unique_vals, frequencies)))\n",
    "# zip returns an iterator of tuples combining the elements of the iterables we pass it one by one. In this case, we combine the elements of unique_vals and frequencies, which are two NumPy arrays, so zip returns an iterator of NumPy tuples. When passed to dict, we create a dictionary with the tuples as key-value pairs."
   ]
  },
  {
   "cell_type": "markdown",
   "metadata": {},
   "source": [
    "### Flip"
   ]
  },
  {
   "cell_type": "code",
   "execution_count": 37,
   "metadata": {},
   "outputs": [
    {
     "name": "stdout",
     "output_type": "stream",
     "text": [
      "vector:    [ 9 10  1  2  2  3  3  3  4  5  6  7  8]\n",
      "flipped: [ 8  7  6  5  4  3  3  3  2  2  1 10  9]\n"
     ]
    }
   ],
   "source": [
    "print(f\"vector:    {vector}\")\n",
    "print(f\"flipped: {np.flip(vector)}\")"
   ]
  },
  {
   "cell_type": "markdown",
   "metadata": {},
   "source": [
    "## Additional resources\n",
    "\n",
    "- https://github.com/rougier/numpy-100"
   ]
  }
 ],
 "metadata": {
  "kernelspec": {
   "display_name": "wip-clase",
   "language": "python",
   "name": "python3"
  },
  "language_info": {
   "codemirror_mode": {
    "name": "ipython",
    "version": 3
   },
   "file_extension": ".py",
   "mimetype": "text/x-python",
   "name": "python",
   "nbconvert_exporter": "python",
   "pygments_lexer": "ipython3",
   "version": "3.12.3"
  }
 },
 "nbformat": 4,
 "nbformat_minor": 2
}
