{
 "cells": [
  {
   "cell_type": "markdown",
   "metadata": {},
   "source": [
    "# NumPy for algebraic operations"
   ]
  },
  {
   "cell_type": "code",
   "execution_count": 1,
   "metadata": {},
   "outputs": [],
   "source": [
    "import numpy as np"
   ]
  },
  {
   "cell_type": "markdown",
   "metadata": {},
   "source": [
    "## Identity matrix"
   ]
  },
  {
   "cell_type": "code",
   "execution_count": 2,
   "metadata": {},
   "outputs": [
    {
     "name": "stdout",
     "output_type": "stream",
     "text": [
      "[[1. 0. 0. 0.]\n",
      " [0. 1. 0. 0.]\n",
      " [0. 0. 1. 0.]\n",
      " [0. 0. 0. 1.]] \n",
      " --- \n",
      "[[1. 0. 0. 0.]\n",
      " [0. 1. 0. 0.]\n",
      " [0. 0. 1. 0.]\n",
      " [0. 0. 0. 1.]] \n",
      " --- \n",
      "[[0. 1. 0. 0.]\n",
      " [0. 0. 1. 0.]\n",
      " [0. 0. 0. 1.]\n",
      " [0. 0. 0. 0.]] \n",
      " --- \n"
     ]
    }
   ],
   "source": [
    "print(np.identity(4), \"\\n --- \") # Creates a 4x4 identity matrix\n",
    "print(np.eye(4), \"\\n --- \") # Same as np.identity(4)\n",
    "\n",
    "# np.identity calls np.eye with k=0. np.eye allows creating matrices with ones on the diagonal shifted\n",
    "print(np.eye(4, k=1), \"\\n --- \") # Creates a 4x4 matrix with ones on the diagonal shifted by 1"
   ]
  },
  {
   "cell_type": "markdown",
   "metadata": {},
   "source": [
    "## Transpose matrix"
   ]
  },
  {
   "cell_type": "code",
   "execution_count": 3,
   "metadata": {},
   "outputs": [
    {
     "name": "stdout",
     "output_type": "stream",
     "text": [
      "[[1 2 3]\n",
      " [4 5 6]]\n",
      "[[1 4]\n",
      " [2 5]\n",
      " [3 6]]\n"
     ]
    }
   ],
   "source": [
    "A = np.array([[1, 2, 3], [4, 5, 6]])\n",
    "print(A)\n",
    "print(A.T) # Transpose of A (swaps rows and columns)"
   ]
  },
  {
   "cell_type": "code",
   "execution_count": 4,
   "metadata": {},
   "outputs": [
    {
     "name": "stdout",
     "output_type": "stream",
     "text": [
      "[2 5]\n",
      "[2 5]\n"
     ]
    }
   ],
   "source": [
    "# Certain slice access operations on a matrix can be facilitated using the transpose:\n",
    "print(A[:,1]) # Column 1\n",
    "print(A.T[1]) # Row 1 of the transpose = column 1"
   ]
  },
  {
   "cell_type": "markdown",
   "metadata": {},
   "source": [
    "## Matrix operations"
   ]
  },
  {
   "cell_type": "markdown",
   "metadata": {},
   "source": [
    "### Matrix operations with scalars\n",
    "Arithmetic operations can be applied to a matrix and a scalar. The scalar is applied to each element of the matrix.\n",
    "\n",
    "[<img src=\"https://numpy.org/doc/stable/_images/np_multiply_broadcasting.png\" width=\"600\">](https://numpy.org/doc/stable/user/absolute_beginners.html#broadcasting)"
   ]
  },
  {
   "cell_type": "code",
   "execution_count": 5,
   "metadata": {},
   "outputs": [
    {
     "name": "stdout",
     "output_type": "stream",
     "text": [
      "A=\n",
      "[[1 2 3]\n",
      " [4 5 6]]\n",
      "A+3 =\n",
      " [[4 5 6]\n",
      " [7 8 9]]\n",
      "A-3 =\n",
      " [[-2 -1  0]\n",
      " [ 1  2  3]]\n",
      "A*2 =\n",
      " [[ 2  4  6]\n",
      " [ 8 10 12]]\n",
      "A/2 =\n",
      " [[0.5 1.  1.5]\n",
      " [2.  2.5 3. ]]\n",
      "A**2 =\n",
      " [[ 1  4  9]\n",
      " [16 25 36]]\n",
      "A**0.5 =\n",
      " [[1.         1.41421356 1.73205081]\n",
      " [2.         2.23606798 2.44948974]]\n",
      "√.5 =\n",
      " [[1.         1.41421356 1.73205081]\n",
      " [2.         2.23606798 2.44948974]]\n"
     ]
    }
   ],
   "source": [
    "print(f\"A=\\n{A}\")\n",
    "\n",
    "print(f\"A+3 =\\n {A+3}\") # Adds 3 to each element of A\n",
    "print(f\"A-3 =\\n {A-3}\") # Subtracts 3 from each element of A\n",
    "print(f\"A*2 =\\n {A*2}\") # Multiplies each element of A by 2\n",
    "print(f\"A/2 =\\n {A/2}\") # Divides each element of A by 2\n",
    "print(f\"A**2 =\\n {A**2}\") # Squares each element of A\n",
    "print(f\"A**0.5 =\\n {A**.5}\") # Square root of each element of A (raises to 1/2)\n",
    "print(f\"√.5 =\\n {np.sqrt(A)}\") # Square root of each element of A"
   ]
  },
  {
   "cell_type": "markdown",
   "metadata": {},
   "source": [
    "### Element-wise operations\n",
    "You can add, subtract, multiply or divide all elements of two matrices, each with its corresponding element.\n",
    "\n",
    "[<img src=\"https://numpy.org/doc/stable/_images/np_sub_mult_divide.png\" width=\"700\"/>](https://numpy.org/doc/stable/user/absolute_beginners.html#basic-array-operations)"
   ]
  },
  {
   "cell_type": "code",
   "execution_count": 6,
   "metadata": {},
   "outputs": [
    {
     "name": "stdout",
     "output_type": "stream",
     "text": [
      "X =\n",
      "[[1 0]\n",
      " [0 1]]\n",
      "Y =\n",
      "[[1 2]\n",
      " [3 4]]\n",
      "---\n",
      "X + Y =\n",
      "[[2 2]\n",
      " [3 5]]\n",
      "X - Y =\n",
      "[[ 0 -2]\n",
      " [-3 -3]]\n",
      "X * Y =\n",
      "[[1 0]\n",
      " [0 4]]\n",
      "X/Y =\n",
      "[[1.   0.  ]\n",
      " [0.   0.25]]\n"
     ]
    }
   ],
   "source": [
    "X = np.identity(2, dtype=int)\n",
    "print(f\"X =\\n{X}\")\n",
    "Y = np.array([[1, 2], [3, 4]])\n",
    "print(f\"Y =\\n{Y}\")\n",
    "print(\"---\")\n",
    "print(f\"X + Y =\\n{X + Y}\") # Matrix addition\n",
    "print(f\"X - Y =\\n{X - Y}\") # Matrix subtraction\n",
    "print(f\"X * Y =\\n{X * Y}\") # Element-wise product\n",
    "print(f\"X/Y =\\n{X/Y}\") # Element-wise division"
   ]
  },
  {
   "cell_type": "markdown",
   "metadata": {},
   "source": [
    "### **Matrix multiplication (matrix product)**\n",
    "\n",
    "Matrix multiplication consists of multiplying each row of the first matrix by each column of the second matrix, summing the results and placing the result in the corresponding position of the resulting matrix.\n",
    "\n",
    "$$\n",
    "X = \\begin{pmatrix} 1 & 7 \\\\ 2 & 4 \\end{pmatrix}\n",
    "\\qquad\n",
    "Y = \\begin{pmatrix} 3 & 3 \\\\ 5 & 2 \\end{pmatrix}\n",
    "$$\n",
    "$$\n",
    "X \\times Y = \n",
    "\\begin{pmatrix} \n",
    "    1 \\times 3 + 7 \\times 5 & 1 \\times 3 + 7 \\times 2 \\\\\n",
    "    2 \\times 3 + 4 \\times 5 & 2 \\times 3 + 4 \\times 2\n",
    "\\end{pmatrix} =\n",
    "\\begin{pmatrix} 38 & 17 \\\\ 26 & 14 \\end{pmatrix}\n",
    "$$\n",
    "This example is from [Khan Academy, where you can find explanations of this process from scratch](https://www.khanacademy.org/math/precalculus/x9e81a4f98389efdf:matrices/x9e81a4f98389efdf:multiplying-matrices-by-matrices/a/multiplying-matrices).\n",
    "\n",
    "It is important not to confuse matrix multiplication with element-wise multiplication.\n",
    "\n",
    "**Matrix multiplication is a vitally important operation in computing**. It is used in image processing, machine learning, cryptography, data compression, simulation of physical systems, solving systems of linear equations, etc.\n",
    "\n",
    "- [Why matrix multiplication is important](https://youtu.be/7V4E_GK1dt8?si=XPB8g7vwRX6beYRc&t=90)\n",
    "- [Using tensors and Numpy in neural networks](https://www.youtube.com/watch?v=bPPLCrjQCBQ)"
   ]
  },
  {
   "cell_type": "code",
   "execution_count": 7,
   "metadata": {},
   "outputs": [
    {
     "name": "stdout",
     "output_type": "stream",
     "text": [
      "X =\n",
      "[[1 7]\n",
      " [2 4]]\n",
      "Y =\n",
      "[[3 3]\n",
      " [5 2]]\n",
      "---\n",
      "X @ Y =\n",
      "[[38 17]\n",
      " [26 14]]\n"
     ]
    }
   ],
   "source": [
    "X = np.array([[1, 7], [2, 4]]); print(f\"X =\\n{X}\")\n",
    "Y = np.array([[3, 3], [5, 2]]); print(f\"Y =\\n{Y}\")\n",
    "print(\"---\")\n",
    "print(f\"X @ Y =\\n{X @ Y}\") # Matrix product"
   ]
  },
  {
   "cell_type": "markdown",
   "metadata": {},
   "source": [
    "<!-- TODO: https://stackoverflow.com/questions/34142485/difference-between-numpy-dot-and-python-3-5-matrix-multiplication -->\n",
    "<!-- https://medium.com/@debopamdeycse19/dot-vs-matmul-in-numpy-which-one-is-best-suited-for-your-needs-dbd27c56ca33#:~:text=Comparison%20of%20Matmul%20and%20Dot,your%20specific%20problem%20and%20requirements. -->"
   ]
  }
 ],
 "metadata": {
  "kernelspec": {
   "display_name": "wip-clase",
   "language": "python",
   "name": "python3"
  },
  "language_info": {
   "codemirror_mode": {
    "name": "ipython",
    "version": 3
   },
   "file_extension": ".py",
   "mimetype": "text/x-python",
   "name": "python",
   "nbconvert_exporter": "python",
   "pygments_lexer": "ipython3",
   "version": "3.12.3"
  }
 },
 "nbformat": 4,
 "nbformat_minor": 2
}
