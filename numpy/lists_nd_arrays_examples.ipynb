{
 "cells": [
  {
   "cell_type": "markdown",
   "metadata": {},
   "source": [
    "# List and NumPy Array Manipulation examples"
   ]
  },
  {
   "cell_type": "code",
   "execution_count": 15,
   "metadata": {},
   "outputs": [],
   "source": [
    "import numpy as np  # For NumPy versions"
   ]
  },
  {
   "cell_type": "markdown",
   "metadata": {},
   "source": [
    "## Function that receives a list and returns another one removing duplicates"
   ]
  },
  {
   "cell_type": "markdown",
   "metadata": {},
   "source": [
    "### Solutions with lists"
   ]
  },
  {
   "cell_type": "code",
   "execution_count": 16,
   "metadata": {},
   "outputs": [
    {
     "name": "stdout",
     "output_type": "stream",
     "text": [
      "[1, 2, 3, 4, 5, 6, 7, 8, 9]\n",
      "[2, 3, 4, 5, 6, 7, 8, 9, 1]\n",
      "[1, 2, 3, 4, 5, 6, 7, 8, 9]\n",
      "[1, 2, 3, 4, 5, 6, 7, 8, 9]\n",
      "[True, 2, 3, 4, 5, 6, 7, 8, 9]\n",
      "[1, 2, 3, 4, 5, 6, 7, 8, 9]\n",
      "['1', 2, 3, 4, 5, 6, 7, 8, 9, 1]\n"
     ]
    }
   ],
   "source": [
    "def remove_duplicates_for(list_input):\n",
    "    '''Iterate through the list and add elements to another list if they're not already present'''\n",
    "    list2 = []\n",
    "    for elem in list_input:\n",
    "        if elem not in list2:\n",
    "            list2.append(elem)\n",
    "    return list2\n",
    "\n",
    "\n",
    "def remove_duplicates_comprehension(list_input):\n",
    "    '''Identical to the previous one using list comprehension'''\n",
    "    list2 = []\n",
    "    [list2.append(elem) for elem in list_input if elem not in list2]\n",
    "    return list2\n",
    "\n",
    "\n",
    "def remove_duplicates_set(list_input):\n",
    "    '''Converting to a set (a set by definition cannot have repeated elements).\n",
    "    Loses the order of elements'''\n",
    "    return list(set(list_input))\n",
    "\n",
    "\n",
    "def remove_duplicates_enumerate(list_input):\n",
    "    '''Using enumerate to iterate through the list and check if the element is in the list up to the current index'''\n",
    "    return [v for i, v in enumerate(list_input) if v not in list_input[:i]]\n",
    "\n",
    "\n",
    "def remove_duplicates_for_enumerate(list_input):\n",
    "    '''Same as the previous one, but imperative'''\n",
    "    list2 = []\n",
    "    for i, v in enumerate(list_input):\n",
    "        if v not in list_input[:i]:\n",
    "            list2.append(v)\n",
    "    return list2\n",
    "\n",
    "# Test\n",
    "print(remove_duplicates_for_enumerate([1, 2, 3, 4, 5, 6, 7, 8, 9, 1]))\n",
    "print(remove_duplicates_for_enumerate([2, 3, 4, 5, 6, 7, 8, 9, 1, 1, 1]))\n",
    "print(remove_duplicates_set([1, 2, 3, 4, 5, 6, 7, 8, 9, 1, 1]))\n",
    "print(remove_duplicates_for_enumerate([1, 2, 1, 1, 3, 4, 5, 6, 7, 8, 9, 1, 1, 2]))\n",
    "print(remove_duplicates_for_enumerate([True, 2, True, 3, 4, 5, 6, 7, 8, 9, True, 1, 1])) # True == 1\n",
    "print(remove_duplicates_for_enumerate([1, 2, True, 3, 4, 5, 6, 7, 8, 9, True, 1, 1])) # True == 1\n",
    "print(remove_duplicates_for_enumerate(['1', 2, '1', 3, 4, 5, 6, 7, 8, 9, '1', 1, 1]))"
   ]
  },
  {
   "cell_type": "markdown",
   "metadata": {},
   "source": [
    "### Solution with NumPy"
   ]
  },
  {
   "cell_type": "code",
   "execution_count": 17,
   "metadata": {},
   "outputs": [
    {
     "name": "stdout",
     "output_type": "stream",
     "text": [
      "[1, 2, 3, 4, 5, 6, 7, 8, 9]\n",
      "[1, 2, 3, 4, 5, 6, 7, 8, 9]\n",
      "[1, 2, 3, 4, 5, 6, 7, 8, 9]\n",
      "[1, 2, 3, 4, 5, 6, 7, 8, 9]\n",
      "[1, 2, 3, 4, 5, 6, 7, 8, 9]\n",
      "['1', '2', '3', '4', '5', '6', '7', '8', '9']\n"
     ]
    }
   ],
   "source": [
    "def remove_duplicates_numpy(list_input):\n",
    "    return np.unique(list_input).tolist()\n",
    "\n",
    "# Test\n",
    "print(remove_duplicates_numpy([1, 2, 3, 4, 5, 6, 7, 8, 9, 1]))\n",
    "print(remove_duplicates_numpy([2, 3, 4, 5, 6, 7, 8, 9, 1, 1, 1])) # NumPy returns sorted values, we lose original order\n",
    "print(remove_duplicates_numpy([1, 2, 1, 1, 3, 4, 5, 6, 7, 8, 9, 1, 1, 2]))\n",
    "print(remove_duplicates_numpy([True, 2, True, 3, 4, 5, 6, 7, 8, 9, True, 1, 1]))\n",
    "print(remove_duplicates_numpy([1, 2, True, 3, 4, 5, 6, 7, 8, 9, True, 1, 1]))\n",
    "print(remove_duplicates_numpy(['1', 2, '1', 3, 4, 5, 6, 7, 8, 9, '1', 1, 1]))\n"
   ]
  },
  {
   "cell_type": "markdown",
   "metadata": {},
   "source": [
    "### Variant: removing duplicates from ndarrays"
   ]
  },
  {
   "cell_type": "code",
   "execution_count": 18,
   "metadata": {},
   "outputs": [
    {
     "name": "stdout",
     "output_type": "stream",
     "text": [
      "[1 2 3 4 5 6 7 8 9]\n",
      "[1 2 3 4 5 6 7 8 9]\n",
      "[1 2 3 4 5 6 7 8 9]\n",
      "[1 2 1 3 4 5 6 7 8 9 1 1 1]\n",
      "int64\n",
      "[1 2 3 4 5 6 7 8 9]\n",
      "['1' '2' '3' '4' '5' '6' '7' '8' '9']\n"
     ]
    }
   ],
   "source": [
    "# No need to define a new function. NumPy already has a function to remove duplicates.\n",
    "\n",
    "# Test\n",
    "print(np.unique(np.array([1, 2, 3, 4, 5, 6, 7, 8, 9, 1])))\n",
    "print(np.unique(np.array([2, 3, 4, 5, 6, 7, 8, 9, 1, 1, 1]))) # NumPy returns sorted values\n",
    "print(np.unique(np.array([1, 2, 1, 1, 3, 4, 5, 6, 7, 8, 9, 1, 1, 2])))\n",
    "\n",
    "# In this case, it assigns a 1 to True when creating the array, not when processing with unique\n",
    "array_test_types = np.array([True, 2, True, 3, 4, 5, 6, 7, 8, 9, True, 1, 1])\n",
    "print(array_test_types)\n",
    "print(array_test_types.dtype) # Chooses the type in which all elements \"fit\" (by casting)\n",
    "\n",
    "print(np.unique(np.array([1, 2, True, 3, 4, 5, 6, 7, 8, 9, True, 1, 1])))\n",
    "print(np.unique(np.array(['1', 2, '1', 3, 4, 5, 6, 7, 8, 9, '1', 1, 1])))"
   ]
  },
  {
   "cell_type": "markdown",
   "metadata": {},
   "source": [
    "## Function that receives a list of lists and returns another one removing duplicates"
   ]
  },
  {
   "cell_type": "code",
   "execution_count": 19,
   "metadata": {},
   "outputs": [
    {
     "name": "stdout",
     "output_type": "stream",
     "text": [
      "[[1, 2, 3], [5], []]\n",
      "[[1, 2, 3], [4], [5, 6]]\n"
     ]
    }
   ],
   "source": [
    "def remove_duplicates_in_sublists(list_of_sublists):\n",
    "    visited = set()\n",
    "    new_list = []\n",
    "    for sublist in list_of_sublists:\n",
    "        new_sublist = []\n",
    "        for elem in sublist:\n",
    "            if elem not in visited:\n",
    "                new_sublist.append(elem)\n",
    "                visited.add(elem)\n",
    "        new_list.append(new_sublist)\n",
    "    return new_list\n",
    "\n",
    "# Test \n",
    "print(remove_duplicates_in_sublists([[1, 2, 3], [1, 5, 3], [1, 2, 3]]))\n",
    "print(remove_duplicates_in_sublists([[1, 2, 3], [2, 3, 4], [4, 5, 6]]))\n"
   ]
  },
  {
   "cell_type": "markdown",
   "metadata": {},
   "source": [
    "## Function that receives a NumPy matrix and returns another one replacing repeated values with NaN"
   ]
  },
  {
   "cell_type": "code",
   "execution_count": 20,
   "metadata": {},
   "outputs": [
    {
     "name": "stdout",
     "output_type": "stream",
     "text": [
      "[[ 1.  2.  3.]\n",
      " [nan nan nan]\n",
      " [nan nan nan]]\n",
      "[[1 2 3]\n",
      " [1 2 3]\n",
      " [1 2 3]]\n",
      "[[ 1. nan  3.]\n",
      " [nan  5.  7.]\n",
      " [ 8.  2. nan]]\n"
     ]
    }
   ],
   "source": [
    "def remove_duplicates_numpy_matrix(matrix: np.ndarray):\n",
    "    matrix = matrix.astype(float)  # NaN is an indicator that an element is not a number, but is a value of type float\n",
    "    already_seen = set()  # Set of elements\n",
    "    for i, row in enumerate(matrix):\n",
    "        for j, elem in enumerate(row):\n",
    "            if elem in already_seen:\n",
    "                matrix[i][j] = np.nan\n",
    "            already_seen.add(elem)\n",
    "    return matrix\n",
    "\n",
    "array_t = np.array([[1, 2, 3], [1, 2, 3], [1, 2, 3]])\n",
    "print(remove_duplicates_numpy_matrix(array_t))\n",
    "print(array_t)\n",
    "\n",
    "# Test\n",
    "print(remove_duplicates_numpy_matrix(np.array([[1, 1, 3], [3, 5, 7], [8, 2, 3]])))"
   ]
  },
  {
   "cell_type": "markdown",
   "metadata": {},
   "source": [
    "## Function that receives a list and returns a dictionary with the number of times each element appears.\n",
    "Dictionary keys should be the list elements and values should be the number of times that element appears in the list"
   ]
  },
  {
   "cell_type": "markdown",
   "metadata": {},
   "source": [
    "### Solution with lists"
   ]
  },
  {
   "cell_type": "code",
   "execution_count": 21,
   "metadata": {},
   "outputs": [
    {
     "name": "stdout",
     "output_type": "stream",
     "text": [
      "{1: 3, 2: 1, 3: 1, 4: 1, 5: 1, 6: 1, 7: 1, 8: 1, 9: 1}\n",
      "{1: 5, 2: 2, 3: 1, 4: 1, 5: 1, 6: 1, 7: 1, 8: 1, 9: 1}\n",
      "{True: 5, 2: 1, 3: 1, 4: 1, 5: 1, 6: 1, 7: 1, 8: 1, 9: 1}\n",
      "{'1': 3, 2: 1, 3: 1, 4: 1, 5: 1, 6: 1, 7: 1, 8: 1, 9: 1, 1: 2}\n"
     ]
    }
   ],
   "source": [
    "def count_elements(list_input):\n",
    "    dict_result = {}\n",
    "    for element in list_input:\n",
    "        if element in dict_result:\n",
    "            dict_result[element] += 1\n",
    "        else:\n",
    "            dict_result[element] = 1\n",
    "    return dict_result\n",
    "\n",
    "# Test\n",
    "print(count_elements([1, 2, 3, 4, 5, 6, 7, 8, 9, 1, 1]))\n",
    "print(count_elements([1, 2, 1, 1, 3, 4, 5, 6, 7, 8, 9, 1, 1, 2]))\n",
    "print(count_elements([True, 2, True, 3, 4, 5, 6, 7, 8, 9, True, 1, 1])) # True == 1\n",
    "print(count_elements(['1', 2, '1', 3, 4, 5, 6, 7, 8, 9, '1', 1, 1]))\n"
   ]
  },
  {
   "cell_type": "markdown",
   "metadata": {},
   "source": [
    "### Solution with NumPy"
   ]
  },
  {
   "cell_type": "code",
   "execution_count": 22,
   "metadata": {},
   "outputs": [
    {
     "name": "stdout",
     "output_type": "stream",
     "text": [
      "{1: 3, 2: 1, 3: 1, 4: 1, 5: 1, 6: 1, 7: 1, 8: 1, 9: 1}\n",
      "{1: 5, 2: 2, 3: 1, 4: 1, 5: 1, 6: 1, 7: 1, 8: 1, 9: 1}\n",
      "{1: 5, 2: 1, 3: 1, 4: 1, 5: 1, 6: 1, 7: 1, 8: 1, 9: 1}\n",
      "{'1': 5, '2': 1, '3': 1, '4': 1, '5': 1, '6': 1, '7': 1, '8': 1, '9': 1}\n"
     ]
    }
   ],
   "source": [
    "def values_with_frequencies(vector):\n",
    "    keys, values = np.unique(vector, return_counts=True)\n",
    "    return dict(zip(keys.tolist(), values.tolist()))\n",
    "\n",
    "# Test\n",
    "print(values_with_frequencies([1, 2, 3, 4, 5, 6, 7, 8, 9, 1, 1]))\n",
    "print(values_with_frequencies([1, 2, 1, 1, 3, 4, 5, 6, 7, 8, 9, 1, 1, 2]))\n",
    "print(values_with_frequencies([True, 2, True, 3, 4, 5, 6, 7, 8, 9, True, 1, 1]))\n",
    "print(values_with_frequencies(['1', 2, '1', 3, 4, 5, 6, 7, 8, 9, '1', 1, 1]))"
   ]
  },
  {
   "cell_type": "code",
   "execution_count": 23,
   "metadata": {},
   "outputs": [
    {
     "name": "stdout",
     "output_type": "stream",
     "text": [
      "{1: 3, 2: 1, 3: 1, 4: 1, 5: 1, 6: 1, 7: 1, 8: 1, 9: 1}\n",
      "{1: 5, 2: 2, 3: 1, 4: 1, 5: 1, 6: 1, 7: 1, 8: 1, 9: 1}\n",
      "{1: 5, 2: 1, 3: 1, 4: 1, 5: 1, 6: 1, 7: 1, 8: 1, 9: 1}\n",
      "{'1': 5, '2': 1, '3': 1, '4': 1, '5': 1, '6': 1, '7': 1, '8': 1, '9': 1}\n"
     ]
    }
   ],
   "source": [
    "def values_with_frequencies(array: np.ndarray):\n",
    "    return {x: int(np.count_nonzero(array == x)) for x in np.unique(array).tolist()}\n",
    "# Only works specifically with ndarrays since the equality array == x returns an array of booleans\n",
    "\n",
    "# Test\n",
    "print(values_with_frequencies(np.array([1, 2, 3, 4, 5, 6, 7, 8, 9, 1, 1])))\n",
    "print(values_with_frequencies(np.array([1, 2, 1, 1, 3, 4, 5, 6, 7, 8, 9, 1, 1, 2])))\n",
    "print(values_with_frequencies(np.array([True, 2, True, 3, 4, 5, 6, 7, 8, 9, True, 1, 1])))\n",
    "print(values_with_frequencies(np.array(['1', 2, '1', 3, 4, 5, 6, 7, 8, 9, '1', 1, 1])))"
   ]
  },
  {
   "cell_type": "markdown",
   "metadata": {},
   "source": [
    "## Function that receives two square matrices (NxN) and returns a third matrix containing the value 1 in positions where the values of A and B match and 0 otherwise."
   ]
  },
  {
   "cell_type": "markdown",
   "metadata": {},
   "source": [
    "### Solutions with lists"
   ]
  },
  {
   "cell_type": "code",
   "execution_count": 24,
   "metadata": {},
   "outputs": [
    {
     "name": "stdout",
     "output_type": "stream",
     "text": [
      "[[1, 0, 0], [0, 1, 0], [0, 0, 1]]\n"
     ]
    }
   ],
   "source": [
    "def equal_values_matrix(matrix1, matrix2):\n",
    "    matrix3 = []\n",
    "    for i, row in enumerate(matrix1):\n",
    "        matrix3.append([])\n",
    "        for j, elem in enumerate(row):\n",
    "            if elem == matrix2[i][j]:\n",
    "                matrix3[i].append(1)\n",
    "            else:\n",
    "                matrix3[i].append(0)\n",
    "    return matrix3\n",
    "\n",
    "def equal_values_matrix_comprehension(matrix1, matrix2):\n",
    "    return [[1 if elem == matrix2[i][j] else 0 for j, elem in enumerate(row)] for i, row in enumerate(matrix1)]\n",
    "\n",
    "# Tests\n",
    "matrix1 = [[1, 2, 3], [4, 5, 6], [7, 8, 9]] # 3x3 Matrix\n",
    "list_of_lists2 = [[1, 5, 6], [7, 5, 9], [1, 2, 9]] # 3x3 Matrix\n",
    "print(equal_values_matrix(matrix1, list_of_lists2)) # Should display an identity matrix\n",
    "assert equal_values_matrix(matrix1, list_of_lists2) == [[1, 0, 0], [0, 1, 0], [0, 0, 1]]\n",
    "\n",
    "assert equal_values_matrix_comprehension(matrix1, list_of_lists2) == [[1, 0, 0], [0, 1, 0], [0, 0, 1]]\n",
    "\n",
    "# TODO: verify that matrices are square and of the same size\n"
   ]
  },
  {
   "cell_type": "markdown",
   "metadata": {},
   "source": [
    "### Solution with NumPy"
   ]
  },
  {
   "cell_type": "code",
   "execution_count": 25,
   "metadata": {},
   "outputs": [
    {
     "name": "stdout",
     "output_type": "stream",
     "text": [
      "[[1 0 0]\n",
      " [0 1 0]\n",
      " [0 0 1]]\n"
     ]
    }
   ],
   "source": [
    "def equal_values_matrix_numpy(matrix1: np.ndarray, matrix2: np.ndarray):\n",
    "    return np.where(matrix1 == matrix2, 1, 0)\n",
    "\n",
    "# Tests\n",
    "matrix1 = np.array([[1, 2, 3], [4, 5, 6], [7, 8, 9]]) # 3x3 Matrix\n",
    "list_of_lists2 = np.array([[1, 5, 6], [7, 5, 9], [1, 2, 9]]) # 3x3 Matrix\n",
    "print(equal_values_matrix_numpy(matrix1, list_of_lists2)) # Should display an identity matrix\n",
    "assert np.array_equal(equal_values_matrix_numpy(matrix1, list_of_lists2), [[1, 0, 0], [0, 1, 0], [0, 0, 1]])"
   ]
  },
  {
   "cell_type": "code",
   "execution_count": 26,
   "metadata": {},
   "outputs": [
    {
     "name": "stdout",
     "output_type": "stream",
     "text": [
      "[[1 0 0]\n",
      " [0 1 0]\n",
      " [0 0 1]]\n"
     ]
    }
   ],
   "source": [
    "def equal_values_matrix_numpy(matrix1: np.ndarray, matrix2: np.ndarray):\n",
    "    return (matrix1 == matrix2).astype(int)\n",
    "\n",
    "# Tests\n",
    "matrix1 = np.array([[1, 2, 3], [4, 5, 6], [7, 8, 9]]) # 3x3 Matrix\n",
    "list_of_lists2 = np.array([[1, 5, 6], [7, 5, 9], [1, 2, 9]]) # 3x3 Matrix\n",
    "print(equal_values_matrix_numpy(matrix1, list_of_lists2)) # Should display an identity matrix\n",
    "assert np.array_equal(equal_values_matrix_numpy(matrix1, list_of_lists2), [[1, 0, 0], [0, 1, 0], [0, 0, 1]])"
   ]
  },
  {
   "cell_type": "markdown",
   "metadata": {},
   "source": [
    "## Function that receives a matrix and finds its saddle points (row maxima that are column minima or vice versa). Should return a list of tuples with the coordinates of the saddle points."
   ]
  },
  {
   "cell_type": "markdown",
   "metadata": {},
   "source": [
    "### Solutions with lists"
   ]
  },
  {
   "cell_type": "code",
   "execution_count": 27,
   "metadata": {},
   "outputs": [
    {
     "name": "stdout",
     "output_type": "stream",
     "text": [
      "Tests passed successfully\n"
     ]
    }
   ],
   "source": [
    "def find_saddle_points(matrix, only_max_row=True):\n",
    "    '''only_max_row=False: Searches for row maxima that are column minima and also row minima that are column maxima'''\n",
    "    saddle_points = set()\n",
    "    \n",
    "    for row_index, row in enumerate(matrix): # For each row\n",
    "        \n",
    "        # Search for row maxima that are column minima\n",
    "        \n",
    "        max_row = max(row) # Maximum of that row\n",
    "        indices_max_row = [i for i,_ in enumerate(row) if row[i]==max_row] # Indices where that maximum is located\n",
    "        \n",
    "        for i in indices_max_row: # For each index where the row maximum is located\n",
    "            min_col_i = min([row[i] for row in matrix]) # Minimum of the column of that maximum\n",
    "            if max_row == min_col_i: # If the row maximum equals the column minimum where it's located\n",
    "                saddle_points.add((row_index, i))\n",
    "            \n",
    "        if not only_max_row: # And in this case, also search for column minima that are row maxima\n",
    "            min_row = min(row) # Minimum of that row\n",
    "            indices_min_row = [i for i, _ in enumerate(row) if row[i]==min_row] # Indices where that minimum is located\n",
    "            \n",
    "            for i in indices_min_row:\n",
    "                max_col_i = max([row[i] for row in matrix]) # Maximum of the column of that minimum\n",
    "                if min_row == max_col_i:\n",
    "                    saddle_points.add((row_index, i))\n",
    "    \n",
    "    return list(saddle_points)\n",
    "        \n",
    "        \n",
    "        \n",
    "def test_find_saddle_points():\n",
    "    matrix1 = [[1, 2, 3], [4, 5, 6], [7, 8, 9]]\n",
    "    assert find_saddle_points(matrix1) == [(0,2)], \"Test 1a failed\"\n",
    "    assert find_saddle_points(matrix1, only_max_row=False) == [(0,2), (2,0)], \"Test 1b failed\"\n",
    "\n",
    "    matrix2 = [[1, 2, 3], [3, 2, 1], [2, 2, 2]]\n",
    "    assert find_saddle_points(matrix2) == [(2,1)], \"Test 2a failed\"\n",
    "    # In this case the same coordinate is both row maximum and column minimum and vice versa, with the set it's only added once\n",
    "    assert find_saddle_points(matrix2, only_max_row=False) == [(2,1)], \"Test 2b failed\"\n",
    "    \n",
    "    # Test 3: empty matrix\n",
    "    assert find_saddle_points([]) == [], \"Test 3a failed\"\n",
    "    assert find_saddle_points([], only_max_row=False) == [], \"Test 3b failed\"\n",
    "\n",
    "    # Test 4: all elements are equal (all are saddle points)\n",
    "    matrix4 = [[5, 5, 5], [5, 5, 5]]\n",
    "    assert sorted(find_saddle_points(matrix4)) == [(0, 0), (0, 1), (0, 2), (1, 0), (1, 1), (1, 2)], \"Test 4a failed\"\n",
    "    assert sorted(find_saddle_points(matrix4, only_max_row=False)) == [(0, 0), (0, 1), (0, 2), (1, 0), (1, 1), (1, 2)], \"Test 4b failed\"\n",
    "    \n",
    "    matrix5 = [[1,2,3],[4,5,2],[3,4,5],[3,4,5],[4,5,5]]\n",
    "    assert sorted(find_saddle_points(matrix5, only_max_row=False)) == [(4, 0)], \"Test 5b failed\"\n",
    "    \n",
    "    matrix6 = [[1,4,3,3,4],[2,5,4,4,5],[3,2,5,5,5]]\n",
    "    assert sorted(find_saddle_points(matrix6, only_max_row=False)) == [(0, 4)], \"Test 6b failed\"\n",
    "    \n",
    "    matrix7 = [[1,2,6],[4,5,5],[3,4,5],[3,4,5],[4,5,5]]\n",
    "    assert sorted(find_saddle_points(matrix7, only_max_row=False)) == [(1, 0), (1, 2), (2, 2), (3, 2), (4, 0), (4, 2)], \"Test 7b failed\"\n",
    "    \n",
    "    matrix8 = [[1,4,3,3,4],[2,5,4,4,5],[6,5,5,5,5]]\n",
    "    assert sorted(find_saddle_points(matrix8, only_max_row=False)) == [(0, 1), (0, 4), (2, 1), (2, 2), (2, 3), (2, 4)], \"Test 8b failed\"\n",
    "\n",
    "    print(\"Tests passed successfully\")\n",
    "\n",
    "\n",
    "test_find_saddle_points()"
   ]
  },
  {
   "cell_type": "markdown",
   "metadata": {},
   "source": [
    "The ability to consider or not row minima that are column maxima has been separated, since in most applications saddle points are interpreted only as row maxima that are column minima. They could also be calculated with the same algorithm by transposing the matrix.\n",
    "\n",
    "This solution is designed to be easy to understand, but you can find other solutions here: \n",
    "https://exercism.org/tracks/python/exercises/saddle-points/solutions\n"
   ]
  },
  {
   "cell_type": "markdown",
   "metadata": {},
   "source": [
    "### Solution with NumPy"
   ]
  },
  {
   "cell_type": "code",
   "execution_count": 28,
   "metadata": {},
   "outputs": [
    {
     "name": "stdout",
     "output_type": "stream",
     "text": [
      "Tests passed successfully\n"
     ]
    }
   ],
   "source": [
    "\n",
    "def find_saddle_points(matrix: np.ndarray, only_max_row=True):\n",
    "    if matrix.size == 0:\n",
    "        return []\n",
    "    \n",
    "    saddle_points = set()\n",
    "\n",
    "    for row_index, row in enumerate(matrix):\n",
    "        max_row = row.max()     \n",
    "        for i in [i for i,_ in enumerate(row) if row[i]==max_row]:\n",
    "            if max_row == matrix[:,i].min():\n",
    "                saddle_points.add((row_index, i))\n",
    "            \n",
    "        if not only_max_row:\n",
    "            min_row = row.min()      \n",
    "            for i in [i for i, _ in enumerate(row) if row[i]==min_row]:\n",
    "                if min_row == matrix[:,i].max():\n",
    "                    saddle_points.add((row_index, i))\n",
    "    \n",
    "    return list(saddle_points)\n",
    "\n",
    "  \n",
    "def test_find_saddle_points():\n",
    "    matrix1 = np.array([[1, 2, 3], [4, 5, 6], [7, 8, 9]])\n",
    "    assert find_saddle_points(matrix1) == [(0,2)], \"Test 1a failed\"\n",
    "    assert find_saddle_points(matrix1, only_max_row=False) == [(0,2), (2,0)], \"Test 1b failed\"\n",
    "\n",
    "    matrix2 = np.array([[1, 2, 3], [3, 2, 1], [2, 2, 2]])\n",
    "    assert find_saddle_points(matrix2) == [(2,1)], \"Test 2a failed\"\n",
    "    # In this case the same coordinate is both row maximum and column minimum and vice versa, with the set it's only added once\n",
    "    assert find_saddle_points(matrix2, only_max_row=False) == [(2,1)], \"Test 2b failed\"\n",
    "    \n",
    "    # Test 3: empty matrix\n",
    "    assert find_saddle_points(np.array([])) == [], \"Test 3a failed\"\n",
    "    assert find_saddle_points(np.array([]), only_max_row=False) == [], \"Test 3b failed\"\n",
    "\n",
    "    # Test 4: all elements are equal (all are saddle points)\n",
    "    matrix4 = np.array([[5, 5, 5], [5, 5, 5]])\n",
    "    assert sorted(find_saddle_points(matrix4)) == [(0, 0), (0, 1), (0, 2), (1, 0), (1, 1), (1, 2)], \"Test 4a failed\"\n",
    "    assert sorted(find_saddle_points(matrix4, only_max_row=False)) == [(0, 0), (0, 1), (0, 2), (1, 0), (1, 1), (1, 2)], \"Test 4b failed\"\n",
    "    \n",
    "    matrix5 = np.array([[1,2,3],[4,5,2],[3,4,5],[3,4,5],[4,5,5]])\n",
    "    assert sorted(find_saddle_points(matrix5, only_max_row=False)) == [(4, 0)], \"Test 5b failed\"\n",
    "    \n",
    "    matrix6 = np.array([[1,4,3,3,4],[2,5,4,4,5],[3,2,5,5,5]])\n",
    "    assert sorted(find_saddle_points(matrix6, only_max_row=False)) == [(0, 4)], \"Test 6b failed\"\n",
    "    \n",
    "    matrix7 = np.array([[1,2,6],[4,5,5],[3,4,5],[3,4,5],[4,5,5]])\n",
    "    assert sorted(find_saddle_points(matrix7, only_max_row=False)) == [(1, 0), (1, 2), (2, 2), (3, 2), (4, 0), (4, 2)], \"Test 7b failed\"\n",
    "    \n",
    "    matrix8 = np.array([[1,4,3,3,4],[2,5,4,4,5],[6,5,5,5,5]])\n",
    "    assert sorted(find_saddle_points(matrix8, only_max_row=False)) == [(0, 1), (0, 4), (2, 1), (2, 2), (2, 3), (2, 4)], \"Test 8b failed\"\n",
    "\n",
    "    print(\"Tests passed successfully\")\n",
    "    \n",
    "test_find_saddle_points()"
   ]
  }
 ],
 "metadata": {
  "kernelspec": {
   "display_name": "wip-clase",
   "language": "python",
   "name": "python3"
  },
  "language_info": {
   "codemirror_mode": {
    "name": "ipython",
    "version": 3
   },
   "file_extension": ".py",
   "mimetype": "text/x-python",
   "name": "python",
   "nbconvert_exporter": "python",
   "pygments_lexer": "ipython3",
   "version": "3.12.3"
  }
 },
 "nbformat": 4,
 "nbformat_minor": 2
}
