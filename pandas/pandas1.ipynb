{
 "cells": [
  {
   "cell_type": "markdown",
   "metadata": {},
   "source": [
    "# Pandas"
   ]
  },
  {
   "cell_type": "markdown",
   "metadata": {},
   "source": [
    "## Introduction"
   ]
  },
  {
   "cell_type": "markdown",
   "metadata": {},
   "source": [
    "pandas is a library for data manipulation and analysis. Created in 2008 in response to the increasing use of Python in scientific applications traditionally dominated by **R**, MATLAB or SAS, and building on the maturity and stability of **NumPy** and **SciPy**. Its name derives from ***Pan**el **Da**ta*, a common term in statistics and econometrics for multidimensional datasets.\n",
    "\n",
    "It allows:\n",
    "- Easy importing from CSV, JSON, Excel, SQL, etc.\n",
    "- Manipulation operations: selection, filtering, aggregation.\n",
    "- Data cleaning (*data cleaning* or *data cleansing*).\n",
    "- *Data wrangling* or *Data munging*: transforming data between formats\n",
    "\n",
    "pandas structures:\n",
    "- Series: 1D array\n",
    "- DataFrame: 2D array\n",
    "- Panel: 3D array\n",
    "\n",
    "\n",
    "Official documentation: https://pandas.pydata.org/docs/"
   ]
  },
  {
   "cell_type": "code",
   "execution_count": 1,
   "metadata": {},
   "outputs": [],
   "source": [
    "import pandas as pd"
   ]
  },
  {
   "cell_type": "markdown",
   "metadata": {},
   "source": [
    "## Series"
   ]
  },
  {
   "cell_type": "markdown",
   "metadata": {},
   "source": [
    "The **Series** type is a one-dimensional array that contains a sequence of values and a sequence of labels associated with the values, called an index. The existence of this explicit index (which can be of any immutable type) is the main difference from a NumPy vector, which has an implicit index (a sequence of integers indicating the position). Series indexes are like dictionary indexes, while **NumPy** indexes are like list indexes."
   ]
  },
  {
   "cell_type": "markdown",
   "metadata": {},
   "source": [
    "### Structure"
   ]
  },
  {
   "cell_type": "code",
   "execution_count": 2,
   "metadata": {},
   "outputs": [
    {
     "name": "stdout",
     "output_type": "stream",
     "text": [
      "0    1\n",
      "1    2\n",
      "2    3\n",
      "3    4\n",
      "4    5\n",
      "5    6\n",
      "dtype: int64\n",
      "<class 'pandas.core.series.Series'>\n"
     ]
    }
   ],
   "source": [
    "serie_ejemplo = pd.Series([1,2,3,4,5,6]) # Series with implicit index since it starts from a list\n",
    "print(serie_ejemplo)\n",
    "print(type(serie_ejemplo))"
   ]
  },
  {
   "cell_type": "code",
   "execution_count": 3,
   "metadata": {},
   "outputs": [],
   "source": [
    "# Similarly to how in NumPy we create vectors from lists, in pandas we can create series from dictionaries. In this case, the dictionary keys will be the series indexes and the dictionary values will be the series values.\n",
    "\n",
    "estudiantes_con_notas = pd.Series({'Estudiante 1': 5, 'Estudiante 2': 10, 'Estudiante 3': 7, 'Estudiante 4': 8})"
   ]
  },
  {
   "cell_type": "code",
   "execution_count": 4,
   "metadata": {},
   "outputs": [
    {
     "data": {
      "text/plain": [
       "Estudiante 1     5\n",
       "Estudiante 2    10\n",
       "Estudiante 3     7\n",
       "Estudiante 4     8\n",
       "dtype: int64"
      ]
     },
     "execution_count": 4,
     "metadata": {},
     "output_type": "execute_result"
    }
   ],
   "source": [
    "pd.Series([5,10,7,8], index=[\"Estudiante 1\",\"Estudiante 2\",\"Estudiante 3\",\"Estudiante 4\"]) # Can also be done this way"
   ]
  },
  {
   "cell_type": "code",
   "execution_count": 5,
   "metadata": {},
   "outputs": [
    {
     "data": {
      "text/plain": [
       "1        Pepe Pérez\n",
       "7        Juan Gómez\n",
       "6         Ana López\n",
       "2      María García\n",
       "5    Luisa Martínez\n",
       "dtype: object"
      ]
     },
     "execution_count": 5,
     "metadata": {},
     "output_type": "execute_result"
    }
   ],
   "source": [
    "asientos_ocupados_teatro = pd.Series({1: \"Pepe Pérez\", 7: \"Juan Gómez\", 6: \"Ana López\", 2: \"María García\", 5: \"Luisa Martínez\"})\n",
    "asientos_ocupados_teatro"
   ]
  },
  {
   "cell_type": "markdown",
   "metadata": {},
   "source": [
    "### Accessing elements of a series"
   ]
  },
  {
   "cell_type": "markdown",
   "metadata": {},
   "source": [
    "Be careful when performing operations on positions instead of indexes, since the explicit index can be a number and not a text string. In this case, if you perform an operation on a position, you will be referring to the position of the implicit index, not the explicit index.\n",
    "\n",
    "To operate on positions, use the **iloc** attribute (from *integer location*), while to operate on indexes use the **loc** attribute or directly the indexing operator **[]**, as in lists or dictionaries. The most common is to use the indexing operator, since it is shorter and more readable."
   ]
  },
  {
   "cell_type": "code",
   "execution_count": 6,
   "metadata": {},
   "outputs": [
    {
     "name": "stdout",
     "output_type": "stream",
     "text": [
      "Juan Gómez\n",
      "Juan Gómez\n",
      "Juan Gómez\n"
     ]
    }
   ],
   "source": [
    "print(asientos_ocupados_teatro[7]) # Returns the value at explicit index 7\n",
    "print(asientos_ocupados_teatro.loc[7]) # Equivalent to the above\n",
    "print(asientos_ocupados_teatro.iloc[1]) # Returns the value at position 1\n",
    "# print(asientos_ocupados_teatro[0]) # Would error since explicit indexes are numbers and index 0 doesn't exist (would be a source of errors if allowed)"
   ]
  },
  {
   "cell_type": "code",
   "execution_count": 7,
   "metadata": {},
   "outputs": [
    {
     "name": "stdout",
     "output_type": "stream",
     "text": [
      "5\n",
      "5\n",
      "5\n",
      "5\n"
     ]
    },
    {
     "name": "stderr",
     "output_type": "stream",
     "text": [
      "/tmp/ipykernel_158889/1890344672.py:4: FutureWarning: Series.__getitem__ treating keys as positions is deprecated. In a future version, integer keys will always be treated as labels (consistent with DataFrame behavior). To access a value by position, use `ser.iloc[pos]`\n",
      "  print(estudiantes_con_notas[0]) # Returns the value at implicit index 0 (position 0)\n"
     ]
    }
   ],
   "source": [
    "print(estudiantes_con_notas[\"Estudiante 1\"]) # Returns the value at explicit index \"Estudiante 1\"\n",
    "print(estudiantes_con_notas.loc[\"Estudiante 1\"]) # Equivalent to the above\n",
    "print(estudiantes_con_notas.iloc[0]) # Returns the value at position 0\n",
    "print(estudiantes_con_notas[0]) # Returns the value at implicit index 0 (position 0) \n",
    "# but throws a warning, should not be done this way but with iloc and will be removed in future pandas versions as it is a source of errors\n",
    "# print(estudiantes_con_notas.loc[0]) # Would error since explicit indexes are strings and index 0 doesn't exist"
   ]
  },
  {
   "cell_type": "code",
   "execution_count": 8,
   "metadata": {},
   "outputs": [
    {
     "data": {
      "text/plain": [
       "Estudiante 1    10\n",
       "Estudiante 2    10\n",
       "Estudiante 3     5\n",
       "Estudiante 4     5\n",
       "dtype: int64"
      ]
     },
     "execution_count": 8,
     "metadata": {},
     "output_type": "execute_result"
    }
   ],
   "source": [
    "# Modifying values by indexes\n",
    "estudiantes_con_notas['Estudiante 1'] = 10\n",
    "estudiantes_con_notas['Estudiante 3':] = 5 # Modifies values from index 3 to the end (slicing)\n",
    "estudiantes_con_notas"
   ]
  },
  {
   "cell_type": "code",
   "execution_count": 9,
   "metadata": {},
   "outputs": [
    {
     "name": "stdout",
     "output_type": "stream",
     "text": [
      "7.5\n",
      "2.886751345948129\n"
     ]
    }
   ],
   "source": [
    "print(estudiantes_con_notas.mean()) # Mean of the grades\n",
    "print(estudiantes_con_notas.std()) # Standard deviation"
   ]
  },
  {
   "cell_type": "code",
   "execution_count": 10,
   "metadata": {},
   "outputs": [
    {
     "name": "stdout",
     "output_type": "stream",
     "text": [
      "count     4.000000\n",
      "mean      7.500000\n",
      "std       2.886751\n",
      "min       5.000000\n",
      "25%       5.000000\n",
      "50%       7.500000\n",
      "75%      10.000000\n",
      "max      10.000000\n",
      "dtype: float64\n"
     ]
    }
   ],
   "source": [
    "print(estudiantes_con_notas.describe()) # Descriptive statistics of student grades"
   ]
  },
  {
   "cell_type": "markdown",
   "metadata": {},
   "source": [
    "## DataFrame"
   ]
  },
  {
   "cell_type": "markdown",
   "metadata": {},
   "source": [
    "### Structure of a DataFrame"
   ]
  },
  {
   "cell_type": "markdown",
   "metadata": {},
   "source": [
    "A **DataFrame** is a two-dimensional tabular data structure, with labeled rows and columns. It is similar to a relational database table (SQL). It can be considered as a collection of Series that share the same index. It is the most used data structure in pandas."
   ]
  },
  {
   "cell_type": "code",
   "execution_count": 11,
   "metadata": {},
   "outputs": [
    {
     "data": {
      "text/html": [
       "<div>\n",
       "<style scoped>\n",
       "    .dataframe tbody tr th:only-of-type {\n",
       "        vertical-align: middle;\n",
       "    }\n",
       "\n",
       "    .dataframe tbody tr th {\n",
       "        vertical-align: top;\n",
       "    }\n",
       "\n",
       "    .dataframe thead th {\n",
       "        text-align: right;\n",
       "    }\n",
       "</style>\n",
       "<table border=\"1\" class=\"dataframe\">\n",
       "  <thead>\n",
       "    <tr style=\"text-align: right;\">\n",
       "      <th></th>\n",
       "      <th>Notas</th>\n",
       "    </tr>\n",
       "  </thead>\n",
       "  <tbody>\n",
       "    <tr>\n",
       "      <th>Estudiante 1</th>\n",
       "      <td>10</td>\n",
       "    </tr>\n",
       "    <tr>\n",
       "      <th>Estudiante 2</th>\n",
       "      <td>10</td>\n",
       "    </tr>\n",
       "    <tr>\n",
       "      <th>Estudiante 3</th>\n",
       "      <td>5</td>\n",
       "    </tr>\n",
       "    <tr>\n",
       "      <th>Estudiante 4</th>\n",
       "      <td>5</td>\n",
       "    </tr>\n",
       "  </tbody>\n",
       "</table>\n",
       "</div>"
      ],
      "text/plain": [
       "              Notas\n",
       "Estudiante 1     10\n",
       "Estudiante 2     10\n",
       "Estudiante 3      5\n",
       "Estudiante 4      5"
      ]
     },
     "execution_count": 11,
     "metadata": {},
     "output_type": "execute_result"
    }
   ],
   "source": [
    "pd.DataFrame({'Notas': estudiantes_con_notas}) # Create a DataFrame from the grades series (giving a name to the column)"
   ]
  },
  {
   "cell_type": "code",
   "execution_count": 12,
   "metadata": {},
   "outputs": [
    {
     "data": {
      "text/html": [
       "<div>\n",
       "<style scoped>\n",
       "    .dataframe tbody tr th:only-of-type {\n",
       "        vertical-align: middle;\n",
       "    }\n",
       "\n",
       "    .dataframe tbody tr th {\n",
       "        vertical-align: top;\n",
       "    }\n",
       "\n",
       "    .dataframe thead th {\n",
       "        text-align: right;\n",
       "    }\n",
       "</style>\n",
       "<table border=\"1\" class=\"dataframe\">\n",
       "  <thead>\n",
       "    <tr style=\"text-align: right;\">\n",
       "      <th></th>\n",
       "      <th>PIA</th>\n",
       "      <th>SAA</th>\n",
       "      <th>MIA</th>\n",
       "      <th>SBD</th>\n",
       "      <th>BDA</th>\n",
       "    </tr>\n",
       "  </thead>\n",
       "  <tbody>\n",
       "    <tr>\n",
       "      <th>Estudiante 1</th>\n",
       "      <td>10</td>\n",
       "      <td>5</td>\n",
       "      <td>9</td>\n",
       "      <td>10</td>\n",
       "      <td>6</td>\n",
       "    </tr>\n",
       "    <tr>\n",
       "      <th>Estudiante 2</th>\n",
       "      <td>10</td>\n",
       "      <td>6</td>\n",
       "      <td>8</td>\n",
       "      <td>9</td>\n",
       "      <td>7</td>\n",
       "    </tr>\n",
       "    <tr>\n",
       "      <th>Estudiante 3</th>\n",
       "      <td>5</td>\n",
       "      <td>7</td>\n",
       "      <td>7</td>\n",
       "      <td>8</td>\n",
       "      <td>8</td>\n",
       "    </tr>\n",
       "    <tr>\n",
       "      <th>Estudiante 4</th>\n",
       "      <td>5</td>\n",
       "      <td>8</td>\n",
       "      <td>6</td>\n",
       "      <td>7</td>\n",
       "      <td>9</td>\n",
       "    </tr>\n",
       "  </tbody>\n",
       "</table>\n",
       "</div>"
      ],
      "text/plain": [
       "              PIA  SAA  MIA  SBD  BDA\n",
       "Estudiante 1   10    5    9   10    6\n",
       "Estudiante 2   10    6    8    9    7\n",
       "Estudiante 3    5    7    7    8    8\n",
       "Estudiante 4    5    8    6    7    9"
      ]
     },
     "execution_count": 12,
     "metadata": {},
     "output_type": "execute_result"
    }
   ],
   "source": [
    "# Directly create a dataframe with grades of several students in several subjects\n",
    "pd.DataFrame({'PIA': estudiantes_con_notas, 'SAA': [5, 6, 7, 8], 'MIA': [9, 8, 7, 6], 'SBD': [10, 9, 8, 7], 'BDA': [6, 7, 8, 9]})"
   ]
  },
  {
   "cell_type": "markdown",
   "metadata": {},
   "source": [
    "In the previous case we used the indexes of ```estudiantes_con_notas``` to create the dataframe. We are adding a Series object for the first column and arrays for the following ones."
   ]
  },
  {
   "cell_type": "code",
   "execution_count": 13,
   "metadata": {},
   "outputs": [
    {
     "data": {
      "text/html": [
       "<div>\n",
       "<style scoped>\n",
       "    .dataframe tbody tr th:only-of-type {\n",
       "        vertical-align: middle;\n",
       "    }\n",
       "\n",
       "    .dataframe tbody tr th {\n",
       "        vertical-align: top;\n",
       "    }\n",
       "\n",
       "    .dataframe thead th {\n",
       "        text-align: right;\n",
       "    }\n",
       "</style>\n",
       "<table border=\"1\" class=\"dataframe\">\n",
       "  <thead>\n",
       "    <tr style=\"text-align: right;\">\n",
       "      <th></th>\n",
       "      <th>PIA</th>\n",
       "      <th>SAA</th>\n",
       "      <th>MIA</th>\n",
       "      <th>SBD</th>\n",
       "      <th>BDA</th>\n",
       "    </tr>\n",
       "  </thead>\n",
       "  <tbody>\n",
       "    <tr>\n",
       "      <th>Wrong Name</th>\n",
       "      <td>NaN</td>\n",
       "      <td>5</td>\n",
       "      <td>9</td>\n",
       "      <td>10</td>\n",
       "      <td>6</td>\n",
       "    </tr>\n",
       "    <tr>\n",
       "      <th>Estudiante 2</th>\n",
       "      <td>10.0</td>\n",
       "      <td>6</td>\n",
       "      <td>8</td>\n",
       "      <td>9</td>\n",
       "      <td>7</td>\n",
       "    </tr>\n",
       "    <tr>\n",
       "      <th>Estudiante 3</th>\n",
       "      <td>5.0</td>\n",
       "      <td>7</td>\n",
       "      <td>7</td>\n",
       "      <td>8</td>\n",
       "      <td>8</td>\n",
       "    </tr>\n",
       "    <tr>\n",
       "      <th>Estudiante 4</th>\n",
       "      <td>5.0</td>\n",
       "      <td>8</td>\n",
       "      <td>6</td>\n",
       "      <td>7</td>\n",
       "      <td>9</td>\n",
       "    </tr>\n",
       "  </tbody>\n",
       "</table>\n",
       "</div>"
      ],
      "text/plain": [
       "               PIA  SAA  MIA  SBD  BDA\n",
       "Wrong Name     NaN    5    9   10    6\n",
       "Estudiante 2  10.0    6    8    9    7\n",
       "Estudiante 3   5.0    7    7    8    8\n",
       "Estudiante 4   5.0    8    6    7    9"
      ]
     },
     "execution_count": 13,
     "metadata": {},
     "output_type": "execute_result"
    }
   ],
   "source": [
    "# Another option would be to specify the explicit indexes and receive all grades as lists\n",
    "pd.DataFrame({'PIA': estudiantes_con_notas, 'SAA': [5, 6, 7, 8], 'MIA': [9, 8, 7, 6], 'SBD': [10, 9, 8, 7], 'BDA': [6, 7, 8, 9]}, index=['Wrong Name', 'Estudiante 2', 'Estudiante 3', 'Estudiante 4'])"
   ]
  },
  {
   "cell_type": "markdown",
   "metadata": {},
   "source": [
    "We made an error in a student's name, and since the first grade list (PIA) was a Series, it doesn't find the grade for the index 'Wrong Name' and returns **NaN (Not a Number)** (a NumPy constant). To avoid this, we can create a DataFrame from a dictionary of lists instead of a dictionary of Series. The other grades are simple lists without an index, so they are assumed to be correct.\n",
    "However, in this type of process it is important to be alert. Having each student's grades only identified by their position in a list is not very robust, since if a student is added or the order of students is changed, the grades will be assigned to different students. It is better to use a dictionary of Series, since the explicit index allows correctly identifying each student.\n",
    "\n",
    "The following solution is more robust:"
   ]
  },
  {
   "cell_type": "code",
   "execution_count": 14,
   "metadata": {},
   "outputs": [
    {
     "data": {
      "text/html": [
       "<div>\n",
       "<style scoped>\n",
       "    .dataframe tbody tr th:only-of-type {\n",
       "        vertical-align: middle;\n",
       "    }\n",
       "\n",
       "    .dataframe tbody tr th {\n",
       "        vertical-align: top;\n",
       "    }\n",
       "\n",
       "    .dataframe thead th {\n",
       "        text-align: right;\n",
       "    }\n",
       "</style>\n",
       "<table border=\"1\" class=\"dataframe\">\n",
       "  <thead>\n",
       "    <tr style=\"text-align: right;\">\n",
       "      <th></th>\n",
       "      <th>PIA</th>\n",
       "      <th>SAA</th>\n",
       "      <th>MIA</th>\n",
       "      <th>SBD</th>\n",
       "      <th>BDA</th>\n",
       "    </tr>\n",
       "  </thead>\n",
       "  <tbody>\n",
       "    <tr>\n",
       "      <th>Alan Turing</th>\n",
       "      <td>7.0</td>\n",
       "      <td>9.0</td>\n",
       "      <td>7.0</td>\n",
       "      <td>10.0</td>\n",
       "      <td>9.9</td>\n",
       "    </tr>\n",
       "    <tr>\n",
       "      <th>Claude Shannon</th>\n",
       "      <td>6.5</td>\n",
       "      <td>8.0</td>\n",
       "      <td>6.0</td>\n",
       "      <td>9.0</td>\n",
       "      <td>6.9</td>\n",
       "    </tr>\n",
       "    <tr>\n",
       "      <th>John McCarthy</th>\n",
       "      <td>6.5</td>\n",
       "      <td>8.5</td>\n",
       "      <td>6.0</td>\n",
       "      <td>9.0</td>\n",
       "      <td>7.8</td>\n",
       "    </tr>\n",
       "    <tr>\n",
       "      <th>Marvin Minsky</th>\n",
       "      <td>5.7</td>\n",
       "      <td>8.0</td>\n",
       "      <td>7.0</td>\n",
       "      <td>9.0</td>\n",
       "      <td>10.0</td>\n",
       "    </tr>\n",
       "  </tbody>\n",
       "</table>\n",
       "</div>"
      ],
      "text/plain": [
       "                PIA  SAA  MIA   SBD   BDA\n",
       "Alan Turing     7.0  9.0  7.0  10.0   9.9\n",
       "Claude Shannon  6.5  8.0  6.0   9.0   6.9\n",
       "John McCarthy   6.5  8.5  6.0   9.0   7.8\n",
       "Marvin Minsky   5.7  8.0  7.0   9.0  10.0"
      ]
     },
     "execution_count": 14,
     "metadata": {},
     "output_type": "execute_result"
    }
   ],
   "source": [
    "notas_pia = pd.Series({'Marvin Minsky': 5.7, 'John McCarthy': 6.5, 'Claude Shannon': 6.5, 'Alan Turing': 7.0})\n",
    "notas_saa = pd.Series({'Marvin Minsky': 8.0, 'John McCarthy': 8.5, 'Claude Shannon': 8.0, 'Alan Turing': 9.0})\n",
    "notas_mia = pd.Series({'Marvin Minsky': 7.0, 'John McCarthy': 6.0, 'Claude Shannon': 6.0, 'Alan Turing': 7.0})\n",
    "notas_sbd = pd.Series({'Marvin Minsky': 9.0, 'John McCarthy': 9.0, 'Claude Shannon': 9.0, 'Alan Turing': 10.0})\n",
    "notas_bda = pd.Series({'John McCarthy': 7.8, 'Claude Shannon': 6.9, 'Alan Turing': 9.9, 'Marvin Minsky': 10}) # Order matters since we are creating from series with explicit indexes\n",
    "\n",
    "notas_df = pd.DataFrame({'PIA': notas_pia, 'SAA': notas_saa, 'MIA': notas_mia, 'SBD': notas_sbd, 'BDA': notas_bda})\n",
    "notas_df"
   ]
  },
  {
   "cell_type": "markdown",
   "metadata": {},
   "source": [
    "A couple of problems to consider when using *strings* as indexes in data analysis:\n",
    "- They may not be unique (two people can have the same name)\n",
    "- There may be variations on how names are written (for example, with uppercase or lowercase) in different data sources.\n",
    "These are two of the reasons why relational databases always use unique indexed primary keys, often auto-incremental integers that have no meaning in themselves (surrogate keys)."
   ]
  },
  {
   "cell_type": "code",
   "execution_count": 15,
   "metadata": {},
   "outputs": [
    {
     "data": {
      "text/html": [
       "<div>\n",
       "<style scoped>\n",
       "    .dataframe tbody tr th:only-of-type {\n",
       "        vertical-align: middle;\n",
       "    }\n",
       "\n",
       "    .dataframe tbody tr th {\n",
       "        vertical-align: top;\n",
       "    }\n",
       "\n",
       "    .dataframe thead th {\n",
       "        text-align: right;\n",
       "    }\n",
       "</style>\n",
       "<table border=\"1\" class=\"dataframe\">\n",
       "  <thead>\n",
       "    <tr style=\"text-align: right;\">\n",
       "      <th></th>\n",
       "      <th>PIA</th>\n",
       "      <th>SAA</th>\n",
       "    </tr>\n",
       "  </thead>\n",
       "  <tbody>\n",
       "    <tr>\n",
       "      <th>Alan Turing</th>\n",
       "      <td>7.0</td>\n",
       "      <td>NaN</td>\n",
       "    </tr>\n",
       "    <tr>\n",
       "      <th>Alan-Turing</th>\n",
       "      <td>NaN</td>\n",
       "      <td>9.0</td>\n",
       "    </tr>\n",
       "    <tr>\n",
       "      <th>Claude Shannon</th>\n",
       "      <td>6.5</td>\n",
       "      <td>NaN</td>\n",
       "    </tr>\n",
       "    <tr>\n",
       "      <th>John McCarthy</th>\n",
       "      <td>6.2</td>\n",
       "      <td>NaN</td>\n",
       "    </tr>\n",
       "    <tr>\n",
       "      <th>Marvin Minsky</th>\n",
       "      <td>5.7</td>\n",
       "      <td>NaN</td>\n",
       "    </tr>\n",
       "    <tr>\n",
       "      <th>McCarthy</th>\n",
       "      <td>NaN</td>\n",
       "      <td>8.5</td>\n",
       "    </tr>\n",
       "    <tr>\n",
       "      <th>marvin minsky</th>\n",
       "      <td>NaN</td>\n",
       "      <td>8.0</td>\n",
       "    </tr>\n",
       "    <tr>\n",
       "      <th>shannon</th>\n",
       "      <td>NaN</td>\n",
       "      <td>8.0</td>\n",
       "    </tr>\n",
       "  </tbody>\n",
       "</table>\n",
       "</div>"
      ],
      "text/plain": [
       "                PIA  SAA\n",
       "Alan Turing     7.0  NaN\n",
       "Alan-Turing     NaN  9.0\n",
       "Claude Shannon  6.5  NaN\n",
       "John McCarthy   6.2  NaN\n",
       "Marvin Minsky   5.7  NaN\n",
       "McCarthy        NaN  8.5\n",
       "marvin minsky   NaN  8.0\n",
       "shannon         NaN  8.0"
      ]
     },
     "execution_count": 15,
     "metadata": {},
     "output_type": "execute_result"
    }
   ],
   "source": [
    "notas_pia = pd.Series({'Marvin Minsky': 5.7, 'John McCarthy': 6.2, 'Claude Shannon': 6.5, 'Alan Turing': 7.0})\n",
    "notas_saa = pd.Series({'marvin minsky': 8.0, 'McCarthy': 8.5, 'shannon': 8.0, 'Alan-Turing': 9.0})\n",
    "notas_df_liandola_parda = pd.DataFrame({'PIA': notas_pia, 'SAA': notas_saa})\n",
    "notas_df_liandola_parda"
   ]
  },
  {
   "cell_type": "markdown",
   "metadata": {},
   "source": [
    "### Information about a DataFrame"
   ]
  },
  {
   "cell_type": "code",
   "execution_count": 16,
   "metadata": {},
   "outputs": [
    {
     "name": "stdout",
     "output_type": "stream",
     "text": [
      "<class 'pandas.core.frame.DataFrame'>\n",
      "Index: 4 entries, Alan Turing to Marvin Minsky\n",
      "Data columns (total 5 columns):\n",
      " #   Column  Non-Null Count  Dtype  \n",
      "---  ------  --------------  -----  \n",
      " 0   PIA     4 non-null      float64\n",
      " 1   SAA     4 non-null      float64\n",
      " 2   MIA     4 non-null      float64\n",
      " 3   SBD     4 non-null      float64\n",
      " 4   BDA     4 non-null      float64\n",
      "dtypes: float64(5)\n",
      "memory usage: 192.0+ bytes\n"
     ]
    }
   ],
   "source": [
    "notas_df.info() # Information about the DataFrame"
   ]
  },
  {
   "cell_type": "code",
   "execution_count": 17,
   "metadata": {},
   "outputs": [
    {
     "data": {
      "text/html": [
       "<div>\n",
       "<style scoped>\n",
       "    .dataframe tbody tr th:only-of-type {\n",
       "        vertical-align: middle;\n",
       "    }\n",
       "\n",
       "    .dataframe tbody tr th {\n",
       "        vertical-align: top;\n",
       "    }\n",
       "\n",
       "    .dataframe thead th {\n",
       "        text-align: right;\n",
       "    }\n",
       "</style>\n",
       "<table border=\"1\" class=\"dataframe\">\n",
       "  <thead>\n",
       "    <tr style=\"text-align: right;\">\n",
       "      <th></th>\n",
       "      <th>PIA</th>\n",
       "      <th>SAA</th>\n",
       "      <th>MIA</th>\n",
       "      <th>SBD</th>\n",
       "      <th>BDA</th>\n",
       "    </tr>\n",
       "  </thead>\n",
       "  <tbody>\n",
       "    <tr>\n",
       "      <th>Alan Turing</th>\n",
       "      <td>7.0</td>\n",
       "      <td>9.0</td>\n",
       "      <td>7.0</td>\n",
       "      <td>10.0</td>\n",
       "      <td>9.9</td>\n",
       "    </tr>\n",
       "    <tr>\n",
       "      <th>Claude Shannon</th>\n",
       "      <td>6.5</td>\n",
       "      <td>8.0</td>\n",
       "      <td>6.0</td>\n",
       "      <td>9.0</td>\n",
       "      <td>6.9</td>\n",
       "    </tr>\n",
       "    <tr>\n",
       "      <th>John McCarthy</th>\n",
       "      <td>6.5</td>\n",
       "      <td>8.5</td>\n",
       "      <td>6.0</td>\n",
       "      <td>9.0</td>\n",
       "      <td>7.8</td>\n",
       "    </tr>\n",
       "    <tr>\n",
       "      <th>Marvin Minsky</th>\n",
       "      <td>5.7</td>\n",
       "      <td>8.0</td>\n",
       "      <td>7.0</td>\n",
       "      <td>9.0</td>\n",
       "      <td>10.0</td>\n",
       "    </tr>\n",
       "  </tbody>\n",
       "</table>\n",
       "</div>"
      ],
      "text/plain": [
       "                PIA  SAA  MIA   SBD   BDA\n",
       "Alan Turing     7.0  9.0  7.0  10.0   9.9\n",
       "Claude Shannon  6.5  8.0  6.0   9.0   6.9\n",
       "John McCarthy   6.5  8.5  6.0   9.0   7.8\n",
       "Marvin Minsky   5.7  8.0  7.0   9.0  10.0"
      ]
     },
     "execution_count": 17,
     "metadata": {},
     "output_type": "execute_result"
    }
   ],
   "source": [
    "notas_df.head() # First 5 rows (in this case, there are only 4, normally we will work with much larger datasets and it will be useful to see only the first rows to get an idea of the data)"
   ]
  },
  {
   "cell_type": "code",
   "execution_count": 18,
   "metadata": {},
   "outputs": [
    {
     "data": {
      "text/plain": [
       "(4, 5)"
      ]
     },
     "execution_count": 18,
     "metadata": {},
     "output_type": "execute_result"
    }
   ],
   "source": [
    "notas_df.shape # Number of rows and columns"
   ]
  },
  {
   "cell_type": "code",
   "execution_count": 19,
   "metadata": {},
   "outputs": [
    {
     "data": {
      "text/plain": [
       "Index(['PIA', 'SAA', 'MIA', 'SBD', 'BDA'], dtype='object')"
      ]
     },
     "execution_count": 19,
     "metadata": {},
     "output_type": "execute_result"
    }
   ],
   "source": [
    "notas_df.keys() # \"Index\" object with column names and type"
   ]
  },
  {
   "cell_type": "code",
   "execution_count": 20,
   "metadata": {},
   "outputs": [
    {
     "data": {
      "text/plain": [
       "Index(['PIA', 'SAA', 'MIA', 'SBD', 'BDA'], dtype='object')"
      ]
     },
     "execution_count": 20,
     "metadata": {},
     "output_type": "execute_result"
    }
   ],
   "source": [
    "notas_df.columns # Equivalent to the above but only for DataFrame (the keys() method also works to retrieve Series keys)"
   ]
  },
  {
   "cell_type": "code",
   "execution_count": 21,
   "metadata": {},
   "outputs": [
    {
     "data": {
      "text/plain": [
       "PIA    float64\n",
       "SAA    float64\n",
       "MIA    float64\n",
       "SBD    float64\n",
       "BDA    float64\n",
       "dtype: object"
      ]
     },
     "execution_count": 21,
     "metadata": {},
     "output_type": "execute_result"
    }
   ],
   "source": [
    "notas_df.dtypes # Data types of columns"
   ]
  },
  {
   "cell_type": "code",
   "execution_count": 22,
   "metadata": {},
   "outputs": [
    {
     "data": {
      "text/plain": [
       "Index(['Alan Turing', 'Claude Shannon', 'John McCarthy', 'Marvin Minsky'], dtype='object')"
      ]
     },
     "execution_count": 22,
     "metadata": {},
     "output_type": "execute_result"
    }
   ],
   "source": [
    "notas_df.index # Row indexes"
   ]
  },
  {
   "cell_type": "markdown",
   "metadata": {},
   "source": [
    "### Writing and reading data files"
   ]
  },
  {
   "cell_type": "markdown",
   "metadata": {},
   "source": [
    "Pandas offers a wide variety of functions to import and export data from and to files. Without going into depth, as an example we can store the DataFrame ```notas_df``` in a **CSV file** with the **to_csv** function and retrieve it with the **read_csv** function."
   ]
  },
  {
   "cell_type": "code",
   "execution_count": 23,
   "metadata": {},
   "outputs": [
    {
     "data": {
      "text/html": [
       "<div>\n",
       "<style scoped>\n",
       "    .dataframe tbody tr th:only-of-type {\n",
       "        vertical-align: middle;\n",
       "    }\n",
       "\n",
       "    .dataframe tbody tr th {\n",
       "        vertical-align: top;\n",
       "    }\n",
       "\n",
       "    .dataframe thead th {\n",
       "        text-align: right;\n",
       "    }\n",
       "</style>\n",
       "<table border=\"1\" class=\"dataframe\">\n",
       "  <thead>\n",
       "    <tr style=\"text-align: right;\">\n",
       "      <th></th>\n",
       "      <th>PIA</th>\n",
       "      <th>SAA</th>\n",
       "      <th>MIA</th>\n",
       "      <th>SBD</th>\n",
       "      <th>BDA</th>\n",
       "    </tr>\n",
       "  </thead>\n",
       "  <tbody>\n",
       "    <tr>\n",
       "      <th>Alan Turing</th>\n",
       "      <td>7.0</td>\n",
       "      <td>9.0</td>\n",
       "      <td>7.0</td>\n",
       "      <td>10.0</td>\n",
       "      <td>9.9</td>\n",
       "    </tr>\n",
       "    <tr>\n",
       "      <th>Claude Shannon</th>\n",
       "      <td>6.5</td>\n",
       "      <td>8.0</td>\n",
       "      <td>6.0</td>\n",
       "      <td>9.0</td>\n",
       "      <td>6.9</td>\n",
       "    </tr>\n",
       "    <tr>\n",
       "      <th>John McCarthy</th>\n",
       "      <td>6.5</td>\n",
       "      <td>8.5</td>\n",
       "      <td>6.0</td>\n",
       "      <td>9.0</td>\n",
       "      <td>7.8</td>\n",
       "    </tr>\n",
       "    <tr>\n",
       "      <th>Marvin Minsky</th>\n",
       "      <td>5.7</td>\n",
       "      <td>8.0</td>\n",
       "      <td>7.0</td>\n",
       "      <td>9.0</td>\n",
       "      <td>10.0</td>\n",
       "    </tr>\n",
       "  </tbody>\n",
       "</table>\n",
       "</div>"
      ],
      "text/plain": [
       "                PIA  SAA  MIA   SBD   BDA\n",
       "Alan Turing     7.0  9.0  7.0  10.0   9.9\n",
       "Claude Shannon  6.5  8.0  6.0   9.0   6.9\n",
       "John McCarthy   6.5  8.5  6.0   9.0   7.8\n",
       "Marvin Minsky   5.7  8.0  7.0   9.0  10.0"
      ]
     },
     "execution_count": 23,
     "metadata": {},
     "output_type": "execute_result"
    }
   ],
   "source": [
    "notas_df.to_csv('data/grades.csv') # the data directory must exist\n",
    "df = pd.read_csv('data/grades.csv', index_col=0)\n",
    "df"
   ]
  },
  {
   "cell_type": "markdown",
   "metadata": {},
   "source": [
    "the parameter ```index_col=0``` indicates that the first column of the csv file is the explicit index of the DataFrame, if not specified an implicit index is created."
   ]
  },
  {
   "cell_type": "code",
   "execution_count": 24,
   "metadata": {},
   "outputs": [
    {
     "data": {
      "text/html": [
       "<div>\n",
       "<style scoped>\n",
       "    .dataframe tbody tr th:only-of-type {\n",
       "        vertical-align: middle;\n",
       "    }\n",
       "\n",
       "    .dataframe tbody tr th {\n",
       "        vertical-align: top;\n",
       "    }\n",
       "\n",
       "    .dataframe thead th {\n",
       "        text-align: right;\n",
       "    }\n",
       "</style>\n",
       "<table border=\"1\" class=\"dataframe\">\n",
       "  <thead>\n",
       "    <tr style=\"text-align: right;\">\n",
       "      <th></th>\n",
       "      <th>Unnamed: 0</th>\n",
       "      <th>PIA</th>\n",
       "      <th>SAA</th>\n",
       "      <th>MIA</th>\n",
       "      <th>SBD</th>\n",
       "      <th>BDA</th>\n",
       "    </tr>\n",
       "  </thead>\n",
       "  <tbody>\n",
       "    <tr>\n",
       "      <th>0</th>\n",
       "      <td>Alan Turing</td>\n",
       "      <td>7.0</td>\n",
       "      <td>9.0</td>\n",
       "      <td>7.0</td>\n",
       "      <td>10.0</td>\n",
       "      <td>9.9</td>\n",
       "    </tr>\n",
       "    <tr>\n",
       "      <th>1</th>\n",
       "      <td>Claude Shannon</td>\n",
       "      <td>6.5</td>\n",
       "      <td>8.0</td>\n",
       "      <td>6.0</td>\n",
       "      <td>9.0</td>\n",
       "      <td>6.9</td>\n",
       "    </tr>\n",
       "    <tr>\n",
       "      <th>2</th>\n",
       "      <td>John McCarthy</td>\n",
       "      <td>6.5</td>\n",
       "      <td>8.5</td>\n",
       "      <td>6.0</td>\n",
       "      <td>9.0</td>\n",
       "      <td>7.8</td>\n",
       "    </tr>\n",
       "    <tr>\n",
       "      <th>3</th>\n",
       "      <td>Marvin Minsky</td>\n",
       "      <td>5.7</td>\n",
       "      <td>8.0</td>\n",
       "      <td>7.0</td>\n",
       "      <td>9.0</td>\n",
       "      <td>10.0</td>\n",
       "    </tr>\n",
       "  </tbody>\n",
       "</table>\n",
       "</div>"
      ],
      "text/plain": [
       "       Unnamed: 0  PIA  SAA  MIA   SBD   BDA\n",
       "0     Alan Turing  7.0  9.0  7.0  10.0   9.9\n",
       "1  Claude Shannon  6.5  8.0  6.0   9.0   6.9\n",
       "2   John McCarthy  6.5  8.5  6.0   9.0   7.8\n",
       "3   Marvin Minsky  5.7  8.0  7.0   9.0  10.0"
      ]
     },
     "execution_count": 24,
     "metadata": {},
     "output_type": "execute_result"
    }
   ],
   "source": [
    "pd.read_csv('data/grades.csv')"
   ]
  }
 ],
 "metadata": {
  "kernelspec": {
   "display_name": "wip-clase",
   "language": "python",
   "name": "python3"
  },
  "language_info": {
   "codemirror_mode": {
    "name": "ipython",
    "version": 3
   },
   "file_extension": ".py",
   "mimetype": "text/x-python",
   "name": "python",
   "nbconvert_exporter": "python",
   "pygments_lexer": "ipython3",
   "version": "3.12.3"
  }
 },
 "nbformat": 4,
 "nbformat_minor": 4
}
