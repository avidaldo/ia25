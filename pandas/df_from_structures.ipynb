{
 "cells": [
  {
   "cell_type": "markdown",
   "metadata": {},
   "source": [
    "## Create a DataFrame incorporating different data structures"
   ]
  },
  {
   "cell_type": "code",
   "execution_count": 1,
   "metadata": {},
   "outputs": [],
   "source": [
    "import numpy as np\n",
    "import pandas as pd\n",
    "\n",
    "grades_module1 = {'Marvin Minsky': 5.7, 'John McCarthy': 6.2, 'Claude Shannon': 6.5, 'Alan Turing': 7.0}\n",
    "grades_module2 = [('Marvin Minsky', 8.0), ('John McCarthy', 8.5), ('Claude Shannon', 8.0), ('Alan Turing', 9.0)]\n",
    "grades_module3 = {('Marvin Minsky', 9.5), ('John McCarthy', 8.9), ('Claude Shannon', 8.7), ('Alan Turing', 9.1)}\n",
    "grades_module4 = [3.3, 4.5, 6.7, 8.9]\n",
    "import numpy as np\n",
    "grades_module5 = np.array([3.5, 4.1, 2.1, 9.3])\n",
    "grades_module6 = pd.Series([8.3, 6.5, 5.7, 5.9])\n",
    "grades_module7 = pd.Series([3.3, 4.5, 6.7, 8.9], index=['Marvin Minsky', 'John McCarthy', 'Claude Shannon', 'Alan Turing'])\n",
    "grades_module8 = pd.Series({'Marvin Minsky': 5.7, 'John McCarthy': 6.2, 'Claude Shannon': 6.5, 'Alan Turing': 7.0})"
   ]
  },
  {
   "cell_type": "code",
   "execution_count": 2,
   "metadata": {},
   "outputs": [
    {
     "data": {
      "text/html": [
       "<div>\n",
       "<style scoped>\n",
       "    .dataframe tbody tr th:only-of-type {\n",
       "        vertical-align: middle;\n",
       "    }\n",
       "\n",
       "    .dataframe tbody tr th {\n",
       "        vertical-align: top;\n",
       "    }\n",
       "\n",
       "    .dataframe thead th {\n",
       "        text-align: right;\n",
       "    }\n",
       "</style>\n",
       "<table border=\"1\" class=\"dataframe\">\n",
       "  <thead>\n",
       "    <tr style=\"text-align: right;\">\n",
       "      <th></th>\n",
       "      <th>Module 1</th>\n",
       "      <th>Module 2</th>\n",
       "      <th>Module 3</th>\n",
       "      <th>Module 4</th>\n",
       "      <th>Module 5</th>\n",
       "      <th>Module 6</th>\n",
       "      <th>Module 7</th>\n",
       "      <th>Module 8</th>\n",
       "    </tr>\n",
       "  </thead>\n",
       "  <tbody>\n",
       "    <tr>\n",
       "      <th>Marvin Minsky</th>\n",
       "      <td>5.7</td>\n",
       "      <td>8.0</td>\n",
       "      <td>9.5</td>\n",
       "      <td>3.3</td>\n",
       "      <td>3.5</td>\n",
       "      <td>8.3</td>\n",
       "      <td>3.3</td>\n",
       "      <td>5.7</td>\n",
       "    </tr>\n",
       "    <tr>\n",
       "      <th>John McCarthy</th>\n",
       "      <td>6.2</td>\n",
       "      <td>8.5</td>\n",
       "      <td>8.9</td>\n",
       "      <td>4.5</td>\n",
       "      <td>4.1</td>\n",
       "      <td>6.5</td>\n",
       "      <td>4.5</td>\n",
       "      <td>6.2</td>\n",
       "    </tr>\n",
       "    <tr>\n",
       "      <th>Claude Shannon</th>\n",
       "      <td>6.5</td>\n",
       "      <td>8.0</td>\n",
       "      <td>8.7</td>\n",
       "      <td>6.7</td>\n",
       "      <td>2.1</td>\n",
       "      <td>5.7</td>\n",
       "      <td>6.7</td>\n",
       "      <td>6.5</td>\n",
       "    </tr>\n",
       "    <tr>\n",
       "      <th>Alan Turing</th>\n",
       "      <td>7.0</td>\n",
       "      <td>9.0</td>\n",
       "      <td>9.1</td>\n",
       "      <td>8.9</td>\n",
       "      <td>9.3</td>\n",
       "      <td>5.9</td>\n",
       "      <td>8.9</td>\n",
       "      <td>7.0</td>\n",
       "    </tr>\n",
       "  </tbody>\n",
       "</table>\n",
       "</div>"
      ],
      "text/plain": [
       "                Module 1  Module 2  Module 3  Module 4  Module 5  Module 6  \\\n",
       "Marvin Minsky        5.7       8.0       9.5       3.3       3.5       8.3   \n",
       "John McCarthy        6.2       8.5       8.9       4.5       4.1       6.5   \n",
       "Claude Shannon       6.5       8.0       8.7       6.7       2.1       5.7   \n",
       "Alan Turing          7.0       9.0       9.1       8.9       9.3       5.9   \n",
       "\n",
       "                Module 7  Module 8  \n",
       "Marvin Minsky        3.3       5.7  \n",
       "John McCarthy        4.5       6.2  \n",
       "Claude Shannon       6.7       6.5  \n",
       "Alan Turing          8.9       7.0  "
      ]
     },
     "execution_count": 2,
     "metadata": {},
     "output_type": "execute_result"
    }
   ],
   "source": [
    "# grades_module6.index= ['Marvin Minsky', 'John McCarthy', 'Claude Shannon', 'Alan Turing']\n",
    "df = pd.DataFrame({\n",
    "    'Module 1': grades_module1,\n",
    "    'Module 2': dict(grades_module2),\n",
    "    'Module 3': dict(grades_module3),\n",
    "    'Module 4': pd.Series(grades_module4, index=['Marvin Minsky', 'John McCarthy', 'Claude Shannon', 'Alan Turing']),\n",
    "    'Module 5': pd.Series(grades_module5, index=['Marvin Minsky', 'John McCarthy', 'Claude Shannon', 'Alan Turing']),\n",
    "    'Module 6': pd.Series(grades_module6.values, index=['Marvin Minsky', 'John McCarthy', 'Claude Shannon', 'Alan Turing']),\n",
    "    # 'Module 6': dict(zip(['Marvin Minsky', 'John McCarthy', 'Claude Shannon', 'Alan Turing'], grades_module6.values)),\n",
    "    'Module 7': grades_module7,\n",
    "    'Module 8': grades_module8\n",
    "    })\n",
    "    \n",
    "df"
   ]
  }
 ],
 "metadata": {
  "kernelspec": {
   "display_name": "wip-clase",
   "language": "python",
   "name": "python3"
  },
  "language_info": {
   "codemirror_mode": {
    "name": "ipython",
    "version": 3
   },
   "file_extension": ".py",
   "mimetype": "text/x-python",
   "name": "python",
   "nbconvert_exporter": "python",
   "pygments_lexer": "ipython3",
   "version": "3.12.3"
  }
 },
 "nbformat": 4,
 "nbformat_minor": 2
}
